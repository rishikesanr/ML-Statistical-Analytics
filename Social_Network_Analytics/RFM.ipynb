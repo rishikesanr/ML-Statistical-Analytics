{
 "cells": [
  {
   "cell_type": "markdown",
   "metadata": {
    "id": "bDfNWl08We-A"
   },
   "source": [
    "Note: The errors are not due to syntactical/logical issues but due to memory constraints in colab. The code runs fine, expect on the last run, due to runtime timeouts, the code was not run"
   ]
  },
  {
   "cell_type": "code",
   "execution_count": null,
   "metadata": {
    "id": "7pl_Xy4mV0oL"
   },
   "outputs": [],
   "source": [
    "# Run below commands\n",
    "!apt-get install openjdk-8-jdk-headless -qq > /dev/null\n",
    "!wget -q https://archive.apache.org/dist/spark/spark-3.0.3/spark-3.0.3-bin-hadoop3.2.tgz\n",
    "!tar xf spark-3.0.3-bin-hadoop3.2.tgz\n",
    "!pip install -q findspark"
   ]
  },
  {
   "cell_type": "code",
   "execution_count": null,
   "metadata": {
    "id": "BHAkw6EciF6e"
   },
   "outputs": [],
   "source": [
    "import os\n",
    "os.environ[\"JAVA_HOME\"] = \"/usr/lib/jvm/java-8-openjdk-amd64\"\n",
    "os.environ[\"SPARK_HOME\"] = \"/content/spark-3.0.3-bin-hadoop3.2\""
   ]
  },
  {
   "cell_type": "code",
   "execution_count": null,
   "metadata": {
    "id": "Lt6eqDwNtvVc"
   },
   "outputs": [],
   "source": [
    "## 4. Make sure envirnoment is set up to use Spark\n",
    "import findspark\n",
    "findspark.init()"
   ]
  },
  {
   "cell_type": "code",
   "execution_count": null,
   "metadata": {
    "id": "dYinw2OaiO9-"
   },
   "outputs": [],
   "source": [
    "import findspark\n",
    "findspark.init()\n",
    "from pyspark.sql import SparkSession\n",
    "from pyspark import SparkConf, SparkContext\n",
    "from datetime import datetime, date, timedelta\n",
    "from dateutil import relativedelta\n",
    "from pyspark.sql import SQLContext, Row\n",
    "from pyspark.sql.types import *\n",
    "from pyspark.sql.functions import *\n",
    "from pyspark.sql import DataFrame\n",
    "from pyspark.sql.functions import *\n",
    "from pyspark.sql.functions import to_timestamp, to_date\n",
    "from pyspark.sql import functions as F\n",
    "from pyspark.sql.functions import collect_list, collect_set, concat, first, array_distinct, col, size, expr\n",
    "from pyspark.sql import DataFrame\n",
    "import random"
   ]
  },
  {
   "cell_type": "code",
   "execution_count": null,
   "metadata": {
    "colab": {
     "base_uri": "https://localhost:8080/",
     "height": 703
    },
    "id": "efGGZdjMj4Rk",
    "outputId": "e47edc10-c330-45a5-ea65-e37c118f4ac4"
   },
   "outputs": [
    {
     "name": "stderr",
     "output_type": "stream",
     "text": [
      "ERROR:py4j.java_gateway:An error occurred while trying to connect to the Java server (127.0.0.1:39639)\n",
      "Traceback (most recent call last):\n",
      "  File \"/content/spark-3.0.3-bin-hadoop3.2/python/lib/py4j-0.10.9-src.zip/py4j/java_gateway.py\", line 977, in _get_connection\n",
      "    connection = self.deque.pop()\n",
      "IndexError: pop from an empty deque\n",
      "\n",
      "During handling of the above exception, another exception occurred:\n",
      "\n",
      "Traceback (most recent call last):\n",
      "  File \"/content/spark-3.0.3-bin-hadoop3.2/python/lib/py4j-0.10.9-src.zip/py4j/java_gateway.py\", line 1115, in start\n",
      "    self.socket.connect((self.address, self.port))\n",
      "ConnectionRefusedError: [Errno 111] Connection refused\n"
     ]
    },
    {
     "ename": "Py4JNetworkError",
     "evalue": "An error occurred while trying to connect to the Java server (127.0.0.1:39639)",
     "output_type": "error",
     "traceback": [
      "\u001b[0;31m---------------------------------------------------------------------------\u001b[0m",
      "\u001b[0;31mIndexError\u001b[0m                                Traceback (most recent call last)",
      "\u001b[0;32m/content/spark-3.0.3-bin-hadoop3.2/python/lib/py4j-0.10.9-src.zip/py4j/java_gateway.py\u001b[0m in \u001b[0;36m_get_connection\u001b[0;34m(self)\u001b[0m\n\u001b[1;32m    976\u001b[0m         \u001b[0;32mtry\u001b[0m\u001b[0;34m:\u001b[0m\u001b[0;34m\u001b[0m\u001b[0;34m\u001b[0m\u001b[0m\n\u001b[0;32m--> 977\u001b[0;31m             \u001b[0mconnection\u001b[0m \u001b[0;34m=\u001b[0m \u001b[0mself\u001b[0m\u001b[0;34m.\u001b[0m\u001b[0mdeque\u001b[0m\u001b[0;34m.\u001b[0m\u001b[0mpop\u001b[0m\u001b[0;34m(\u001b[0m\u001b[0;34m)\u001b[0m\u001b[0;34m\u001b[0m\u001b[0;34m\u001b[0m\u001b[0m\n\u001b[0m\u001b[1;32m    978\u001b[0m         \u001b[0;32mexcept\u001b[0m \u001b[0mIndexError\u001b[0m\u001b[0;34m:\u001b[0m\u001b[0;34m\u001b[0m\u001b[0;34m\u001b[0m\u001b[0m\n",
      "\u001b[0;31mIndexError\u001b[0m: pop from an empty deque",
      "\nDuring handling of the above exception, another exception occurred:\n",
      "\u001b[0;31mConnectionRefusedError\u001b[0m                    Traceback (most recent call last)",
      "\u001b[0;32m/content/spark-3.0.3-bin-hadoop3.2/python/lib/py4j-0.10.9-src.zip/py4j/java_gateway.py\u001b[0m in \u001b[0;36mstart\u001b[0;34m(self)\u001b[0m\n\u001b[1;32m   1114\u001b[0m         \u001b[0;32mtry\u001b[0m\u001b[0;34m:\u001b[0m\u001b[0;34m\u001b[0m\u001b[0;34m\u001b[0m\u001b[0m\n\u001b[0;32m-> 1115\u001b[0;31m             \u001b[0mself\u001b[0m\u001b[0;34m.\u001b[0m\u001b[0msocket\u001b[0m\u001b[0;34m.\u001b[0m\u001b[0mconnect\u001b[0m\u001b[0;34m(\u001b[0m\u001b[0;34m(\u001b[0m\u001b[0mself\u001b[0m\u001b[0;34m.\u001b[0m\u001b[0maddress\u001b[0m\u001b[0;34m,\u001b[0m \u001b[0mself\u001b[0m\u001b[0;34m.\u001b[0m\u001b[0mport\u001b[0m\u001b[0;34m)\u001b[0m\u001b[0;34m)\u001b[0m\u001b[0;34m\u001b[0m\u001b[0;34m\u001b[0m\u001b[0m\n\u001b[0m\u001b[1;32m   1116\u001b[0m             \u001b[0mself\u001b[0m\u001b[0;34m.\u001b[0m\u001b[0mstream\u001b[0m \u001b[0;34m=\u001b[0m \u001b[0mself\u001b[0m\u001b[0;34m.\u001b[0m\u001b[0msocket\u001b[0m\u001b[0;34m.\u001b[0m\u001b[0mmakefile\u001b[0m\u001b[0;34m(\u001b[0m\u001b[0;34m\"rb\"\u001b[0m\u001b[0;34m)\u001b[0m\u001b[0;34m\u001b[0m\u001b[0;34m\u001b[0m\u001b[0m\n",
      "\u001b[0;31mConnectionRefusedError\u001b[0m: [Errno 111] Connection refused",
      "\nDuring handling of the above exception, another exception occurred:\n",
      "\u001b[0;31mPy4JNetworkError\u001b[0m                          Traceback (most recent call last)",
      "\u001b[0;32m<ipython-input-34-585b52422f46>\u001b[0m in \u001b[0;36m<cell line: 4>\u001b[0;34m()\u001b[0m\n\u001b[1;32m      4\u001b[0m \u001b[0mspark\u001b[0m \u001b[0;34m=\u001b[0m \u001b[0mSparkSession\u001b[0m\u001b[0;34m.\u001b[0m\u001b[0mbuilder\u001b[0m\u001b[0;31m \u001b[0m\u001b[0;31m\\\u001b[0m\u001b[0;34m\u001b[0m\u001b[0;34m\u001b[0m\u001b[0m\n\u001b[1;32m      5\u001b[0m     \u001b[0;34m.\u001b[0m\u001b[0mappName\u001b[0m\u001b[0;34m(\u001b[0m\u001b[0;34m\"Venmo\"\u001b[0m\u001b[0;34m)\u001b[0m\u001b[0;31m \u001b[0m\u001b[0;31m\\\u001b[0m\u001b[0;34m\u001b[0m\u001b[0;34m\u001b[0m\u001b[0m\n\u001b[0;32m----> 6\u001b[0;31m     \u001b[0;34m.\u001b[0m\u001b[0mgetOrCreate\u001b[0m\u001b[0;34m(\u001b[0m\u001b[0;34m)\u001b[0m\u001b[0;34m\u001b[0m\u001b[0;34m\u001b[0m\u001b[0m\n\u001b[0m",
      "\u001b[0;32m/content/spark-3.0.3-bin-hadoop3.2/python/pyspark/sql/session.py\u001b[0m in \u001b[0;36mgetOrCreate\u001b[0;34m(self)\u001b[0m\n\u001b[1;32m    189\u001b[0m                     \u001b[0msession\u001b[0m \u001b[0;34m=\u001b[0m \u001b[0mSparkSession\u001b[0m\u001b[0;34m(\u001b[0m\u001b[0msc\u001b[0m\u001b[0;34m)\u001b[0m\u001b[0;34m\u001b[0m\u001b[0;34m\u001b[0m\u001b[0m\n\u001b[1;32m    190\u001b[0m                 \u001b[0;32mfor\u001b[0m \u001b[0mkey\u001b[0m\u001b[0;34m,\u001b[0m \u001b[0mvalue\u001b[0m \u001b[0;32min\u001b[0m \u001b[0mself\u001b[0m\u001b[0;34m.\u001b[0m\u001b[0m_options\u001b[0m\u001b[0;34m.\u001b[0m\u001b[0mitems\u001b[0m\u001b[0;34m(\u001b[0m\u001b[0;34m)\u001b[0m\u001b[0;34m:\u001b[0m\u001b[0;34m\u001b[0m\u001b[0;34m\u001b[0m\u001b[0m\n\u001b[0;32m--> 191\u001b[0;31m                     \u001b[0msession\u001b[0m\u001b[0;34m.\u001b[0m\u001b[0m_jsparkSession\u001b[0m\u001b[0;34m.\u001b[0m\u001b[0msessionState\u001b[0m\u001b[0;34m(\u001b[0m\u001b[0;34m)\u001b[0m\u001b[0;34m.\u001b[0m\u001b[0mconf\u001b[0m\u001b[0;34m(\u001b[0m\u001b[0;34m)\u001b[0m\u001b[0;34m.\u001b[0m\u001b[0msetConfString\u001b[0m\u001b[0;34m(\u001b[0m\u001b[0mkey\u001b[0m\u001b[0;34m,\u001b[0m \u001b[0mvalue\u001b[0m\u001b[0;34m)\u001b[0m\u001b[0;34m\u001b[0m\u001b[0;34m\u001b[0m\u001b[0m\n\u001b[0m\u001b[1;32m    192\u001b[0m                 \u001b[0;32mreturn\u001b[0m \u001b[0msession\u001b[0m\u001b[0;34m\u001b[0m\u001b[0;34m\u001b[0m\u001b[0m\n\u001b[1;32m    193\u001b[0m \u001b[0;34m\u001b[0m\u001b[0m\n",
      "\u001b[0;32m/content/spark-3.0.3-bin-hadoop3.2/python/lib/py4j-0.10.9-src.zip/py4j/java_gateway.py\u001b[0m in \u001b[0;36m__call__\u001b[0;34m(self, *args)\u001b[0m\n\u001b[1;32m   1301\u001b[0m             \u001b[0mproto\u001b[0m\u001b[0;34m.\u001b[0m\u001b[0mEND_COMMAND_PART\u001b[0m\u001b[0;34m\u001b[0m\u001b[0;34m\u001b[0m\u001b[0m\n\u001b[1;32m   1302\u001b[0m \u001b[0;34m\u001b[0m\u001b[0m\n\u001b[0;32m-> 1303\u001b[0;31m         \u001b[0manswer\u001b[0m \u001b[0;34m=\u001b[0m \u001b[0mself\u001b[0m\u001b[0;34m.\u001b[0m\u001b[0mgateway_client\u001b[0m\u001b[0;34m.\u001b[0m\u001b[0msend_command\u001b[0m\u001b[0;34m(\u001b[0m\u001b[0mcommand\u001b[0m\u001b[0;34m)\u001b[0m\u001b[0;34m\u001b[0m\u001b[0;34m\u001b[0m\u001b[0m\n\u001b[0m\u001b[1;32m   1304\u001b[0m         return_value = get_return_value(\n\u001b[1;32m   1305\u001b[0m             answer, self.gateway_client, self.target_id, self.name)\n",
      "\u001b[0;32m/content/spark-3.0.3-bin-hadoop3.2/python/lib/py4j-0.10.9-src.zip/py4j/java_gateway.py\u001b[0m in \u001b[0;36msend_command\u001b[0;34m(self, command, retry, binary)\u001b[0m\n\u001b[1;32m   1029\u001b[0m          \u001b[0;32mif\u001b[0m\u001b[0;31m \u001b[0m\u001b[0;31m`\u001b[0m\u001b[0mbinary\u001b[0m\u001b[0;31m`\u001b[0m \u001b[0;32mis\u001b[0m\u001b[0;31m \u001b[0m\u001b[0;31m`\u001b[0m\u001b[0;32mTrue\u001b[0m\u001b[0;31m`\u001b[0m\u001b[0;34m.\u001b[0m\u001b[0;34m\u001b[0m\u001b[0;34m\u001b[0m\u001b[0m\n\u001b[1;32m   1030\u001b[0m         \"\"\"\n\u001b[0;32m-> 1031\u001b[0;31m         \u001b[0mconnection\u001b[0m \u001b[0;34m=\u001b[0m \u001b[0mself\u001b[0m\u001b[0;34m.\u001b[0m\u001b[0m_get_connection\u001b[0m\u001b[0;34m(\u001b[0m\u001b[0;34m)\u001b[0m\u001b[0;34m\u001b[0m\u001b[0;34m\u001b[0m\u001b[0m\n\u001b[0m\u001b[1;32m   1032\u001b[0m         \u001b[0;32mtry\u001b[0m\u001b[0;34m:\u001b[0m\u001b[0;34m\u001b[0m\u001b[0;34m\u001b[0m\u001b[0m\n\u001b[1;32m   1033\u001b[0m             \u001b[0mresponse\u001b[0m \u001b[0;34m=\u001b[0m \u001b[0mconnection\u001b[0m\u001b[0;34m.\u001b[0m\u001b[0msend_command\u001b[0m\u001b[0;34m(\u001b[0m\u001b[0mcommand\u001b[0m\u001b[0;34m)\u001b[0m\u001b[0;34m\u001b[0m\u001b[0;34m\u001b[0m\u001b[0m\n",
      "\u001b[0;32m/content/spark-3.0.3-bin-hadoop3.2/python/lib/py4j-0.10.9-src.zip/py4j/java_gateway.py\u001b[0m in \u001b[0;36m_get_connection\u001b[0;34m(self)\u001b[0m\n\u001b[1;32m    977\u001b[0m             \u001b[0mconnection\u001b[0m \u001b[0;34m=\u001b[0m \u001b[0mself\u001b[0m\u001b[0;34m.\u001b[0m\u001b[0mdeque\u001b[0m\u001b[0;34m.\u001b[0m\u001b[0mpop\u001b[0m\u001b[0;34m(\u001b[0m\u001b[0;34m)\u001b[0m\u001b[0;34m\u001b[0m\u001b[0;34m\u001b[0m\u001b[0m\n\u001b[1;32m    978\u001b[0m         \u001b[0;32mexcept\u001b[0m \u001b[0mIndexError\u001b[0m\u001b[0;34m:\u001b[0m\u001b[0;34m\u001b[0m\u001b[0;34m\u001b[0m\u001b[0m\n\u001b[0;32m--> 979\u001b[0;31m             \u001b[0mconnection\u001b[0m \u001b[0;34m=\u001b[0m \u001b[0mself\u001b[0m\u001b[0;34m.\u001b[0m\u001b[0m_create_connection\u001b[0m\u001b[0;34m(\u001b[0m\u001b[0;34m)\u001b[0m\u001b[0;34m\u001b[0m\u001b[0;34m\u001b[0m\u001b[0m\n\u001b[0m\u001b[1;32m    980\u001b[0m         \u001b[0;32mreturn\u001b[0m \u001b[0mconnection\u001b[0m\u001b[0;34m\u001b[0m\u001b[0;34m\u001b[0m\u001b[0m\n\u001b[1;32m    981\u001b[0m \u001b[0;34m\u001b[0m\u001b[0m\n",
      "\u001b[0;32m/content/spark-3.0.3-bin-hadoop3.2/python/lib/py4j-0.10.9-src.zip/py4j/java_gateway.py\u001b[0m in \u001b[0;36m_create_connection\u001b[0;34m(self)\u001b[0m\n\u001b[1;32m    983\u001b[0m         connection = GatewayConnection(\n\u001b[1;32m    984\u001b[0m             self.gateway_parameters, self.gateway_property)\n\u001b[0;32m--> 985\u001b[0;31m         \u001b[0mconnection\u001b[0m\u001b[0;34m.\u001b[0m\u001b[0mstart\u001b[0m\u001b[0;34m(\u001b[0m\u001b[0;34m)\u001b[0m\u001b[0;34m\u001b[0m\u001b[0;34m\u001b[0m\u001b[0m\n\u001b[0m\u001b[1;32m    986\u001b[0m         \u001b[0;32mreturn\u001b[0m \u001b[0mconnection\u001b[0m\u001b[0;34m\u001b[0m\u001b[0;34m\u001b[0m\u001b[0m\n\u001b[1;32m    987\u001b[0m \u001b[0;34m\u001b[0m\u001b[0m\n",
      "\u001b[0;32m/content/spark-3.0.3-bin-hadoop3.2/python/lib/py4j-0.10.9-src.zip/py4j/java_gateway.py\u001b[0m in \u001b[0;36mstart\u001b[0;34m(self)\u001b[0m\n\u001b[1;32m   1125\u001b[0m                 \u001b[0;34m\"server ({0}:{1})\"\u001b[0m\u001b[0;34m.\u001b[0m\u001b[0mformat\u001b[0m\u001b[0;34m(\u001b[0m\u001b[0mself\u001b[0m\u001b[0;34m.\u001b[0m\u001b[0maddress\u001b[0m\u001b[0;34m,\u001b[0m \u001b[0mself\u001b[0m\u001b[0;34m.\u001b[0m\u001b[0mport\u001b[0m\u001b[0;34m)\u001b[0m\u001b[0;34m\u001b[0m\u001b[0;34m\u001b[0m\u001b[0m\n\u001b[1;32m   1126\u001b[0m             \u001b[0mlogger\u001b[0m\u001b[0;34m.\u001b[0m\u001b[0mexception\u001b[0m\u001b[0;34m(\u001b[0m\u001b[0mmsg\u001b[0m\u001b[0;34m)\u001b[0m\u001b[0;34m\u001b[0m\u001b[0;34m\u001b[0m\u001b[0m\n\u001b[0;32m-> 1127\u001b[0;31m             \u001b[0;32mraise\u001b[0m \u001b[0mPy4JNetworkError\u001b[0m\u001b[0;34m(\u001b[0m\u001b[0mmsg\u001b[0m\u001b[0;34m,\u001b[0m \u001b[0me\u001b[0m\u001b[0;34m)\u001b[0m\u001b[0;34m\u001b[0m\u001b[0;34m\u001b[0m\u001b[0m\n\u001b[0m\u001b[1;32m   1128\u001b[0m \u001b[0;34m\u001b[0m\u001b[0m\n\u001b[1;32m   1129\u001b[0m     \u001b[0;32mdef\u001b[0m \u001b[0m_authenticate_connection\u001b[0m\u001b[0;34m(\u001b[0m\u001b[0mself\u001b[0m\u001b[0;34m)\u001b[0m\u001b[0;34m:\u001b[0m\u001b[0;34m\u001b[0m\u001b[0;34m\u001b[0m\u001b[0m\n",
      "\u001b[0;31mPy4JNetworkError\u001b[0m: An error occurred while trying to connect to the Java server (127.0.0.1:39639)"
     ]
    }
   ],
   "source": [
    "## Create a spark session\n",
    "from pyspark.sql import SparkSession\n",
    "\n",
    "spark = SparkSession.builder \\\n",
    "    .appName(\"Venmo\") \\\n",
    "    .getOrCreate()"
   ]
  },
  {
   "cell_type": "code",
   "execution_count": 35,
   "metadata": {
    "colab": {
     "base_uri": "https://localhost:8080/",
     "height": 703
    },
    "id": "ukaN4KZaudwj",
    "outputId": "57962592-82ae-407f-f5ac-ac6dfc1b3a15"
   },
   "outputs": [
    {
     "name": "stderr",
     "output_type": "stream",
     "text": [
      "ERROR:py4j.java_gateway:An error occurred while trying to connect to the Java server (127.0.0.1:39639)\n",
      "Traceback (most recent call last):\n",
      "  File \"/content/spark-3.0.3-bin-hadoop3.2/python/lib/py4j-0.10.9-src.zip/py4j/java_gateway.py\", line 977, in _get_connection\n",
      "    connection = self.deque.pop()\n",
      "IndexError: pop from an empty deque\n",
      "\n",
      "During handling of the above exception, another exception occurred:\n",
      "\n",
      "Traceback (most recent call last):\n",
      "  File \"/content/spark-3.0.3-bin-hadoop3.2/python/lib/py4j-0.10.9-src.zip/py4j/java_gateway.py\", line 1115, in start\n",
      "    self.socket.connect((self.address, self.port))\n",
      "ConnectionRefusedError: [Errno 111] Connection refused\n"
     ]
    },
    {
     "ename": "Py4JNetworkError",
     "evalue": "An error occurred while trying to connect to the Java server (127.0.0.1:39639)",
     "output_type": "error",
     "traceback": [
      "\u001b[0;31m---------------------------------------------------------------------------\u001b[0m",
      "\u001b[0;31mIndexError\u001b[0m                                Traceback (most recent call last)",
      "\u001b[0;32m/content/spark-3.0.3-bin-hadoop3.2/python/lib/py4j-0.10.9-src.zip/py4j/java_gateway.py\u001b[0m in \u001b[0;36m_get_connection\u001b[0;34m(self)\u001b[0m\n\u001b[1;32m    976\u001b[0m         \u001b[0;32mtry\u001b[0m\u001b[0;34m:\u001b[0m\u001b[0;34m\u001b[0m\u001b[0;34m\u001b[0m\u001b[0m\n\u001b[0;32m--> 977\u001b[0;31m             \u001b[0mconnection\u001b[0m \u001b[0;34m=\u001b[0m \u001b[0mself\u001b[0m\u001b[0;34m.\u001b[0m\u001b[0mdeque\u001b[0m\u001b[0;34m.\u001b[0m\u001b[0mpop\u001b[0m\u001b[0;34m(\u001b[0m\u001b[0;34m)\u001b[0m\u001b[0;34m\u001b[0m\u001b[0;34m\u001b[0m\u001b[0m\n\u001b[0m\u001b[1;32m    978\u001b[0m         \u001b[0;32mexcept\u001b[0m \u001b[0mIndexError\u001b[0m\u001b[0;34m:\u001b[0m\u001b[0;34m\u001b[0m\u001b[0;34m\u001b[0m\u001b[0m\n",
      "\u001b[0;31mIndexError\u001b[0m: pop from an empty deque",
      "\nDuring handling of the above exception, another exception occurred:\n",
      "\u001b[0;31mConnectionRefusedError\u001b[0m                    Traceback (most recent call last)",
      "\u001b[0;32m/content/spark-3.0.3-bin-hadoop3.2/python/lib/py4j-0.10.9-src.zip/py4j/java_gateway.py\u001b[0m in \u001b[0;36mstart\u001b[0;34m(self)\u001b[0m\n\u001b[1;32m   1114\u001b[0m         \u001b[0;32mtry\u001b[0m\u001b[0;34m:\u001b[0m\u001b[0;34m\u001b[0m\u001b[0;34m\u001b[0m\u001b[0m\n\u001b[0;32m-> 1115\u001b[0;31m             \u001b[0mself\u001b[0m\u001b[0;34m.\u001b[0m\u001b[0msocket\u001b[0m\u001b[0;34m.\u001b[0m\u001b[0mconnect\u001b[0m\u001b[0;34m(\u001b[0m\u001b[0;34m(\u001b[0m\u001b[0mself\u001b[0m\u001b[0;34m.\u001b[0m\u001b[0maddress\u001b[0m\u001b[0;34m,\u001b[0m \u001b[0mself\u001b[0m\u001b[0;34m.\u001b[0m\u001b[0mport\u001b[0m\u001b[0;34m)\u001b[0m\u001b[0;34m)\u001b[0m\u001b[0;34m\u001b[0m\u001b[0;34m\u001b[0m\u001b[0m\n\u001b[0m\u001b[1;32m   1116\u001b[0m             \u001b[0mself\u001b[0m\u001b[0;34m.\u001b[0m\u001b[0mstream\u001b[0m \u001b[0;34m=\u001b[0m \u001b[0mself\u001b[0m\u001b[0;34m.\u001b[0m\u001b[0msocket\u001b[0m\u001b[0;34m.\u001b[0m\u001b[0mmakefile\u001b[0m\u001b[0;34m(\u001b[0m\u001b[0;34m\"rb\"\u001b[0m\u001b[0;34m)\u001b[0m\u001b[0;34m\u001b[0m\u001b[0;34m\u001b[0m\u001b[0m\n",
      "\u001b[0;31mConnectionRefusedError\u001b[0m: [Errno 111] Connection refused",
      "\nDuring handling of the above exception, another exception occurred:\n",
      "\u001b[0;31mPy4JNetworkError\u001b[0m                          Traceback (most recent call last)",
      "\u001b[0;32m<ipython-input-35-d2c93380cae2>\u001b[0m in \u001b[0;36m<cell line: 2>\u001b[0;34m()\u001b[0m\n\u001b[1;32m      1\u001b[0m \u001b[0;31m# Read the Parquet file into a Spark DataFrame\u001b[0m\u001b[0;34m\u001b[0m\u001b[0;34m\u001b[0m\u001b[0m\n\u001b[0;32m----> 2\u001b[0;31m \u001b[0mdf\u001b[0m \u001b[0;34m=\u001b[0m \u001b[0mspark\u001b[0m\u001b[0;34m.\u001b[0m\u001b[0mread\u001b[0m\u001b[0;34m.\u001b[0m\u001b[0mparquet\u001b[0m\u001b[0;34m(\u001b[0m\u001b[0;34m'VenmoSample.snappy.parquet'\u001b[0m\u001b[0;34m)\u001b[0m\u001b[0;34m\u001b[0m\u001b[0;34m\u001b[0m\u001b[0m\n\u001b[0m\u001b[1;32m      3\u001b[0m \u001b[0;34m\u001b[0m\u001b[0m\n\u001b[1;32m      4\u001b[0m \u001b[0;31m# Show the first few rows\u001b[0m\u001b[0;34m\u001b[0m\u001b[0;34m\u001b[0m\u001b[0m\n\u001b[1;32m      5\u001b[0m \u001b[0mdf\u001b[0m\u001b[0;34m.\u001b[0m\u001b[0mshow\u001b[0m\u001b[0;34m(\u001b[0m\u001b[0;34m)\u001b[0m\u001b[0;34m\u001b[0m\u001b[0;34m\u001b[0m\u001b[0m\n",
      "\u001b[0;32m/content/spark-3.0.3-bin-hadoop3.2/python/pyspark/sql/session.py\u001b[0m in \u001b[0;36mread\u001b[0;34m(self)\u001b[0m\n\u001b[1;32m    671\u001b[0m         \u001b[0;34m:\u001b[0m\u001b[0;32mreturn\u001b[0m\u001b[0;34m:\u001b[0m \u001b[0;34m:\u001b[0m\u001b[0;32mclass\u001b[0m\u001b[0;34m:\u001b[0m\u001b[0;31m`\u001b[0m\u001b[0mDataFrameReader\u001b[0m\u001b[0;31m`\u001b[0m\u001b[0;34m\u001b[0m\u001b[0;34m\u001b[0m\u001b[0m\n\u001b[1;32m    672\u001b[0m         \"\"\"\n\u001b[0;32m--> 673\u001b[0;31m         \u001b[0;32mreturn\u001b[0m \u001b[0mDataFrameReader\u001b[0m\u001b[0;34m(\u001b[0m\u001b[0mself\u001b[0m\u001b[0;34m.\u001b[0m\u001b[0m_wrapped\u001b[0m\u001b[0;34m)\u001b[0m\u001b[0;34m\u001b[0m\u001b[0;34m\u001b[0m\u001b[0m\n\u001b[0m\u001b[1;32m    674\u001b[0m \u001b[0;34m\u001b[0m\u001b[0m\n\u001b[1;32m    675\u001b[0m     \u001b[0;34m@\u001b[0m\u001b[0mproperty\u001b[0m\u001b[0;34m\u001b[0m\u001b[0;34m\u001b[0m\u001b[0m\n",
      "\u001b[0;32m/content/spark-3.0.3-bin-hadoop3.2/python/pyspark/sql/readwriter.py\u001b[0m in \u001b[0;36m__init__\u001b[0;34m(self, spark)\u001b[0m\n\u001b[1;32m     56\u001b[0m \u001b[0;34m\u001b[0m\u001b[0m\n\u001b[1;32m     57\u001b[0m     \u001b[0;32mdef\u001b[0m \u001b[0m__init__\u001b[0m\u001b[0;34m(\u001b[0m\u001b[0mself\u001b[0m\u001b[0;34m,\u001b[0m \u001b[0mspark\u001b[0m\u001b[0;34m)\u001b[0m\u001b[0;34m:\u001b[0m\u001b[0;34m\u001b[0m\u001b[0;34m\u001b[0m\u001b[0m\n\u001b[0;32m---> 58\u001b[0;31m         \u001b[0mself\u001b[0m\u001b[0;34m.\u001b[0m\u001b[0m_jreader\u001b[0m \u001b[0;34m=\u001b[0m \u001b[0mspark\u001b[0m\u001b[0;34m.\u001b[0m\u001b[0m_ssql_ctx\u001b[0m\u001b[0;34m.\u001b[0m\u001b[0mread\u001b[0m\u001b[0;34m(\u001b[0m\u001b[0;34m)\u001b[0m\u001b[0;34m\u001b[0m\u001b[0;34m\u001b[0m\u001b[0m\n\u001b[0m\u001b[1;32m     59\u001b[0m         \u001b[0mself\u001b[0m\u001b[0;34m.\u001b[0m\u001b[0m_spark\u001b[0m \u001b[0;34m=\u001b[0m \u001b[0mspark\u001b[0m\u001b[0;34m\u001b[0m\u001b[0;34m\u001b[0m\u001b[0m\n\u001b[1;32m     60\u001b[0m \u001b[0;34m\u001b[0m\u001b[0m\n",
      "\u001b[0;32m/content/spark-3.0.3-bin-hadoop3.2/python/lib/py4j-0.10.9-src.zip/py4j/java_gateway.py\u001b[0m in \u001b[0;36m__call__\u001b[0;34m(self, *args)\u001b[0m\n\u001b[1;32m   1301\u001b[0m             \u001b[0mproto\u001b[0m\u001b[0;34m.\u001b[0m\u001b[0mEND_COMMAND_PART\u001b[0m\u001b[0;34m\u001b[0m\u001b[0;34m\u001b[0m\u001b[0m\n\u001b[1;32m   1302\u001b[0m \u001b[0;34m\u001b[0m\u001b[0m\n\u001b[0;32m-> 1303\u001b[0;31m         \u001b[0manswer\u001b[0m \u001b[0;34m=\u001b[0m \u001b[0mself\u001b[0m\u001b[0;34m.\u001b[0m\u001b[0mgateway_client\u001b[0m\u001b[0;34m.\u001b[0m\u001b[0msend_command\u001b[0m\u001b[0;34m(\u001b[0m\u001b[0mcommand\u001b[0m\u001b[0;34m)\u001b[0m\u001b[0;34m\u001b[0m\u001b[0;34m\u001b[0m\u001b[0m\n\u001b[0m\u001b[1;32m   1304\u001b[0m         return_value = get_return_value(\n\u001b[1;32m   1305\u001b[0m             answer, self.gateway_client, self.target_id, self.name)\n",
      "\u001b[0;32m/content/spark-3.0.3-bin-hadoop3.2/python/lib/py4j-0.10.9-src.zip/py4j/java_gateway.py\u001b[0m in \u001b[0;36msend_command\u001b[0;34m(self, command, retry, binary)\u001b[0m\n\u001b[1;32m   1029\u001b[0m          \u001b[0;32mif\u001b[0m\u001b[0;31m \u001b[0m\u001b[0;31m`\u001b[0m\u001b[0mbinary\u001b[0m\u001b[0;31m`\u001b[0m \u001b[0;32mis\u001b[0m\u001b[0;31m \u001b[0m\u001b[0;31m`\u001b[0m\u001b[0;32mTrue\u001b[0m\u001b[0;31m`\u001b[0m\u001b[0;34m.\u001b[0m\u001b[0;34m\u001b[0m\u001b[0;34m\u001b[0m\u001b[0m\n\u001b[1;32m   1030\u001b[0m         \"\"\"\n\u001b[0;32m-> 1031\u001b[0;31m         \u001b[0mconnection\u001b[0m \u001b[0;34m=\u001b[0m \u001b[0mself\u001b[0m\u001b[0;34m.\u001b[0m\u001b[0m_get_connection\u001b[0m\u001b[0;34m(\u001b[0m\u001b[0;34m)\u001b[0m\u001b[0;34m\u001b[0m\u001b[0;34m\u001b[0m\u001b[0m\n\u001b[0m\u001b[1;32m   1032\u001b[0m         \u001b[0;32mtry\u001b[0m\u001b[0;34m:\u001b[0m\u001b[0;34m\u001b[0m\u001b[0;34m\u001b[0m\u001b[0m\n\u001b[1;32m   1033\u001b[0m             \u001b[0mresponse\u001b[0m \u001b[0;34m=\u001b[0m \u001b[0mconnection\u001b[0m\u001b[0;34m.\u001b[0m\u001b[0msend_command\u001b[0m\u001b[0;34m(\u001b[0m\u001b[0mcommand\u001b[0m\u001b[0;34m)\u001b[0m\u001b[0;34m\u001b[0m\u001b[0;34m\u001b[0m\u001b[0m\n",
      "\u001b[0;32m/content/spark-3.0.3-bin-hadoop3.2/python/lib/py4j-0.10.9-src.zip/py4j/java_gateway.py\u001b[0m in \u001b[0;36m_get_connection\u001b[0;34m(self)\u001b[0m\n\u001b[1;32m    977\u001b[0m             \u001b[0mconnection\u001b[0m \u001b[0;34m=\u001b[0m \u001b[0mself\u001b[0m\u001b[0;34m.\u001b[0m\u001b[0mdeque\u001b[0m\u001b[0;34m.\u001b[0m\u001b[0mpop\u001b[0m\u001b[0;34m(\u001b[0m\u001b[0;34m)\u001b[0m\u001b[0;34m\u001b[0m\u001b[0;34m\u001b[0m\u001b[0m\n\u001b[1;32m    978\u001b[0m         \u001b[0;32mexcept\u001b[0m \u001b[0mIndexError\u001b[0m\u001b[0;34m:\u001b[0m\u001b[0;34m\u001b[0m\u001b[0;34m\u001b[0m\u001b[0m\n\u001b[0;32m--> 979\u001b[0;31m             \u001b[0mconnection\u001b[0m \u001b[0;34m=\u001b[0m \u001b[0mself\u001b[0m\u001b[0;34m.\u001b[0m\u001b[0m_create_connection\u001b[0m\u001b[0;34m(\u001b[0m\u001b[0;34m)\u001b[0m\u001b[0;34m\u001b[0m\u001b[0;34m\u001b[0m\u001b[0m\n\u001b[0m\u001b[1;32m    980\u001b[0m         \u001b[0;32mreturn\u001b[0m \u001b[0mconnection\u001b[0m\u001b[0;34m\u001b[0m\u001b[0;34m\u001b[0m\u001b[0m\n\u001b[1;32m    981\u001b[0m \u001b[0;34m\u001b[0m\u001b[0m\n",
      "\u001b[0;32m/content/spark-3.0.3-bin-hadoop3.2/python/lib/py4j-0.10.9-src.zip/py4j/java_gateway.py\u001b[0m in \u001b[0;36m_create_connection\u001b[0;34m(self)\u001b[0m\n\u001b[1;32m    983\u001b[0m         connection = GatewayConnection(\n\u001b[1;32m    984\u001b[0m             self.gateway_parameters, self.gateway_property)\n\u001b[0;32m--> 985\u001b[0;31m         \u001b[0mconnection\u001b[0m\u001b[0;34m.\u001b[0m\u001b[0mstart\u001b[0m\u001b[0;34m(\u001b[0m\u001b[0;34m)\u001b[0m\u001b[0;34m\u001b[0m\u001b[0;34m\u001b[0m\u001b[0m\n\u001b[0m\u001b[1;32m    986\u001b[0m         \u001b[0;32mreturn\u001b[0m \u001b[0mconnection\u001b[0m\u001b[0;34m\u001b[0m\u001b[0;34m\u001b[0m\u001b[0m\n\u001b[1;32m    987\u001b[0m \u001b[0;34m\u001b[0m\u001b[0m\n",
      "\u001b[0;32m/content/spark-3.0.3-bin-hadoop3.2/python/lib/py4j-0.10.9-src.zip/py4j/java_gateway.py\u001b[0m in \u001b[0;36mstart\u001b[0;34m(self)\u001b[0m\n\u001b[1;32m   1125\u001b[0m                 \u001b[0;34m\"server ({0}:{1})\"\u001b[0m\u001b[0;34m.\u001b[0m\u001b[0mformat\u001b[0m\u001b[0;34m(\u001b[0m\u001b[0mself\u001b[0m\u001b[0;34m.\u001b[0m\u001b[0maddress\u001b[0m\u001b[0;34m,\u001b[0m \u001b[0mself\u001b[0m\u001b[0;34m.\u001b[0m\u001b[0mport\u001b[0m\u001b[0;34m)\u001b[0m\u001b[0;34m\u001b[0m\u001b[0;34m\u001b[0m\u001b[0m\n\u001b[1;32m   1126\u001b[0m             \u001b[0mlogger\u001b[0m\u001b[0;34m.\u001b[0m\u001b[0mexception\u001b[0m\u001b[0;34m(\u001b[0m\u001b[0mmsg\u001b[0m\u001b[0;34m)\u001b[0m\u001b[0;34m\u001b[0m\u001b[0;34m\u001b[0m\u001b[0m\n\u001b[0;32m-> 1127\u001b[0;31m             \u001b[0;32mraise\u001b[0m \u001b[0mPy4JNetworkError\u001b[0m\u001b[0;34m(\u001b[0m\u001b[0mmsg\u001b[0m\u001b[0;34m,\u001b[0m \u001b[0me\u001b[0m\u001b[0;34m)\u001b[0m\u001b[0;34m\u001b[0m\u001b[0;34m\u001b[0m\u001b[0m\n\u001b[0m\u001b[1;32m   1128\u001b[0m \u001b[0;34m\u001b[0m\u001b[0m\n\u001b[1;32m   1129\u001b[0m     \u001b[0;32mdef\u001b[0m \u001b[0m_authenticate_connection\u001b[0m\u001b[0;34m(\u001b[0m\u001b[0mself\u001b[0m\u001b[0;34m)\u001b[0m\u001b[0;34m:\u001b[0m\u001b[0;34m\u001b[0m\u001b[0;34m\u001b[0m\u001b[0m\n",
      "\u001b[0;31mPy4JNetworkError\u001b[0m: An error occurred while trying to connect to the Java server (127.0.0.1:39639)"
     ]
    }
   ],
   "source": [
    "# Read the Parquet file into a Spark DataFrame\n",
    "df = spark.read.parquet('VenmoSample.snappy.parquet')\n",
    "\n",
    "# Show the first few rows\n",
    "df.show()"
   ]
  },
  {
   "cell_type": "code",
   "execution_count": null,
   "metadata": {
    "colab": {
     "base_uri": "https://localhost:8080/"
    },
    "id": "DiAOLyqG-pWF",
    "outputId": "7465733a-7e4a-4eaa-d515-b007caa20cbf"
   },
   "outputs": [
    {
     "data": {
      "text/plain": [
       "[('user1', 'int'),\n",
       " ('user2', 'int'),\n",
       " ('transaction_type', 'string'),\n",
       " ('datetime', 'timestamp'),\n",
       " ('description', 'string'),\n",
       " ('is_business', 'boolean'),\n",
       " ('story_id', 'string')]"
      ]
     },
     "execution_count": 139,
     "metadata": {},
     "output_type": "execute_result"
    }
   ],
   "source": [
    "df.dtypes"
   ]
  },
  {
   "cell_type": "code",
   "execution_count": null,
   "metadata": {
    "id": "OPY__2NC_rp8"
   },
   "outputs": [],
   "source": [
    "## Create a new date column\n",
    "df = df.withColumn(\"date\", to_date(col(\"datetime\")))"
   ]
  },
  {
   "cell_type": "code",
   "execution_count": null,
   "metadata": {
    "colab": {
     "base_uri": "https://localhost:8080/"
    },
    "id": "7iJP82EIyCLv",
    "outputId": "d8675eea-9de6-4d3d-fc3c-9b8b3845c84f"
   },
   "outputs": [
    {
     "data": {
      "text/plain": [
       "(datetime.date(2011, 11, 29), datetime.date(2016, 12, 1))"
      ]
     },
     "execution_count": 141,
     "metadata": {},
     "output_type": "execute_result"
    }
   ],
   "source": [
    "## Check the time range\n",
    "min_max_values = df.agg(\n",
    "    min(col(\"date\")).alias(\"min_value\"), max(col(\"date\")).alias(\"max_value\")\n",
    "    ).collect()[0]\n",
    "min_max_values[\"min_value\"], min_max_values[\"max_value\"]"
   ]
  },
  {
   "cell_type": "code",
   "execution_count": null,
   "metadata": {
    "id": "KU0qUo1m_MG2"
   },
   "outputs": [],
   "source": [
    "# Find the first transaction date for each user\n",
    "user_start_date = df.groupBy(\"user1\").agg(min(col(\"date\")).alias(\"start_date\"))\n",
    "\n",
    "# Find the last transaction date for each user\n",
    "user_end_date = df.groupBy(\"user1\").agg(max(col(\"date\")).alias(\"end_date\"))\n",
    "\n",
    "# Join the original DataFrame with the start dates and end dates DataFrame to get the start and end dates\n",
    "df = df.join(user_start_date, on=\"user1\", how=\"inner\")\n",
    "df = df.join(user_end_date, on=\"user1\", how=\"inner\")\n",
    "\n",
    "df = df.withColumn(\"Lifetime\", datediff(col(\"end_date\"), col(\"start_date\")))"
   ]
  },
  {
   "cell_type": "code",
   "execution_count": null,
   "metadata": {
    "colab": {
     "base_uri": "https://localhost:8080/"
    },
    "id": "CRwD7rY1Fiui",
    "outputId": "80f3ab1c-07fa-4282-a731-4a4aab8200c9"
   },
   "outputs": [
    {
     "name": "stdout",
     "output_type": "stream",
     "text": [
      "+------+------+----------------+-------------------+--------------------+-----------+--------------------+----------+----------+----------+--------+-----------------+\n",
      "| user1| user2|transaction_type|           datetime|         description|is_business|            story_id|      date|start_date|  end_date|Lifetime|transaction_count|\n",
      "+------+------+----------------+-------------------+--------------------+-----------+--------------------+----------+----------+----------+--------+-----------------+\n",
      "|292083|229804|         payment|2015-01-26 10:02:59|             Chinese|      false|54c5a053ca134c404...|2015-01-26|2014-01-19|2016-08-22|     946|                1|\n",
      "|307303|203261|         payment|2015-01-08 00:40:54|       First payment|      false|54ad6198ca134c404...|2015-01-08|2014-01-15|2015-09-15|     608|                1|\n",
      "|420077| 94309|         payment|2015-01-30 05:58:40|Random acts of no...|      false|54caad10ca134c404...|2015-01-30|2014-01-05|2016-05-29|     875|                1|\n",
      "|424374|171975|         payment|2015-01-04 14:00:12|                   T|      false|54a8d6edca134c404...|2015-01-04|2014-01-30|2015-12-22|     691|                1|\n",
      "|513523|666506|         payment|2015-01-22 12:39:38|                🎮💰|      false|54c07f0aca134c404...|2015-01-22|2014-01-20|2016-06-02|     864|                1|\n",
      "+------+------+----------------+-------------------+--------------------+-----------+--------------------+----------+----------+----------+--------+-----------------+\n",
      "only showing top 5 rows\n",
      "\n"
     ]
    }
   ],
   "source": [
    "## Note: Assumption is that the users make payments every month, ontly such transactions are retained\n",
    "\n",
    "# Retain customers who have been using app for >=12 months and retain transactions for the first 12 months only\n",
    "df1 = df.filter(\n",
    "    (year('start_date') == 2014) &\n",
    "    (month('start_date') == 1) &\n",
    "    (year('date') == 2015) &\n",
    "    (month('date') == 1) &\n",
    "    (col('transaction_type') == 'payment')\n",
    ")\n",
    "\n",
    "# Count transactions for each user within the first 12 months\n",
    "transaction_counts = df1.groupBy(\"user1\").agg(count(\"*\").alias(\"transaction_count\"))\n",
    "\n",
    "df1 = df1.join(transaction_counts, on = \"user1\", how = \"left\")\n",
    "\n",
    "df1.show(5)"
   ]
  },
  {
   "cell_type": "code",
   "execution_count": null,
   "metadata": {
    "colab": {
     "base_uri": "https://localhost:8080/"
    },
    "id": "rU5L2GWBBsa4",
    "outputId": "0fa628dd-c9d5-4d84-950a-2dd9aba44f4b"
   },
   "outputs": [
    {
     "name": "stdout",
     "output_type": "stream",
     "text": [
      "+------+-----------------+---------------------+-----------------+-------+---------+\n",
      "| user1|months_from_start|last_transaction_date|transaction_count|recency|frequency|\n",
      "+------+-----------------+---------------------+-----------------+-------+---------+\n",
      "|292083|               12|           2015-01-26|                1|      5|     30.0|\n",
      "|307303|               11|           2015-01-08|                1|     23|     30.0|\n",
      "|420077|               12|           2015-01-30|                1|      1|     30.0|\n",
      "|424374|               11|           2015-01-04|                1|     27|     30.0|\n",
      "|513523|               12|           2015-01-22|                1|      9|     30.0|\n",
      "|806735|               12|           2015-01-27|                1|      4|     30.0|\n",
      "|932765|               11|           2015-01-19|                1|     12|     30.0|\n",
      "|339828|               11|           2015-01-02|                1|     29|     30.0|\n",
      "|468215|               11|           2015-01-04|                1|     27|     30.0|\n",
      "|734336|               12|           2015-01-04|                1|     27|     30.0|\n",
      "|890219|               11|           2015-01-10|                1|     21|     30.0|\n",
      "|149063|               12|           2015-01-25|                1|      6|     30.0|\n",
      "|334902|               11|           2015-01-01|                1|     30|     30.0|\n",
      "|407378|               11|           2015-01-05|                1|     26|     30.0|\n",
      "|690511|               12|           2015-01-27|                2|      4|     15.0|\n",
      "|818260|               11|           2015-01-21|                1|     10|     30.0|\n",
      "|827042|               11|           2015-01-25|                1|      6|     30.0|\n",
      "|933885|               11|           2015-01-22|                1|      9|     30.0|\n",
      "|933885|               12|           2015-01-26|                1|      5|     30.0|\n",
      "|135576|               12|           2015-01-27|                1|      4|     30.0|\n",
      "+------+-----------------+---------------------+-----------------+-------+---------+\n",
      "only showing top 20 rows\n",
      "\n"
     ]
    }
   ],
   "source": [
    "from pyspark.sql import functions as F\n",
    "\n",
    "# Calculate months from the start date for each transaction\n",
    "df1 = df1.withColumn(\"months_from_start\", F.floor(F.months_between(F.col(\"date\"), F.col(\"start_date\"))))\n",
    "\n",
    "# Group by user and months_from_start to calculate recency and frequency\n",
    "rf_df = df1.groupBy(\"user1\", \"months_from_start\").agg(\n",
    "    F.max(\"date\").alias(\"last_transaction_date\"),\n",
    "    F.count(\"*\").alias(\"transaction_count\")\n",
    ")\n",
    "\n",
    "# Calculate recency and frequency\n",
    "rf_df = rf_df.withColumn(\"recency\", 31 - F.dayofmonth(\"last_transaction_date\")) ## Using 31 since some months have transaction on 31st day\n",
    "rf_df = rf_df.withColumn(\"frequency\", 30 / F.col(\"transaction_count\"))\n",
    "\n",
    "# Show the dataframe\n",
    "rf_df.show()"
   ]
  },
  {
   "cell_type": "code",
   "execution_count": null,
   "metadata": {
    "id": "_BXo1byhMArH"
   },
   "outputs": [],
   "source": [
    "months_df = spark.range(0, 13).toDF(\"months_from_start\")\n",
    "\n",
    "# Get distinct users from the original DataFrame\n",
    "users_df = df1.select(\"user1\").distinct()\n",
    "\n",
    "# Cross join to have all combinations of user1 and months_from_start\n",
    "user_months_df = users_df.crossJoin(months_df)\n",
    "\n",
    "# Left join with the recency-frequency DataFrame\n",
    "rf_complete_df = user_months_df.join(rf_df, [\"user1\", \"months_from_start\"], \"left\")\n",
    "\n",
    "# Fill in gaps where necessary, e.g., setting recency and frequency to null or a default value\n",
    "rf_complete_df = rf_complete_df.fillna({\"recency\": \"30\", \"frequency\": \"0\"})\n",
    "\n",
    "# Show the complete DataFrame\n",
    "rf_complete_df.orderBy('user1').show()"
   ]
  },
  {
   "cell_type": "code",
   "execution_count": null,
   "metadata": {
    "colab": {
     "base_uri": "https://localhost:8080/"
    },
    "id": "7wb6hRcEQyX2",
    "outputId": "2b714ab5-d558-43d4-f57e-10d2d1676dac"
   },
   "outputs": [
    {
     "name": "stdout",
     "output_type": "stream",
     "text": [
      "+------+-------+----------------+-------------------+--------------------+-----------+--------------------+----------+----------+----------+--------+-----------------+-----------------+---------------+---------------+---------------+---------------+---------------+---------------+---------------+---------------+---------------+---------------+----------------+----------------+----------------+-----------------+-----------------+-----------------+-----------------+-----------------+-----------------+-----------------+-----------------+-----------------+-----------------+------------------+------------------+------------------+\n",
      "| user1|  user2|transaction_type|           datetime|         description|is_business|            story_id|      date|start_date|  end_date|Lifetime|transaction_count|months_from_start|recency_month_0|recency_month_1|recency_month_2|recency_month_3|recency_month_4|recency_month_5|recency_month_6|recency_month_7|recency_month_8|recency_month_9|recency_month_10|recency_month_11|recency_month_12|frequency_month_0|frequency_month_1|frequency_month_2|frequency_month_3|frequency_month_4|frequency_month_5|frequency_month_6|frequency_month_7|frequency_month_8|frequency_month_9|frequency_month_10|frequency_month_11|frequency_month_12|\n",
      "+------+-------+----------------+-------------------+--------------------+-----------+--------------------+----------+----------+----------+--------+-----------------+-----------------+---------------+---------------+---------------+---------------+---------------+---------------+---------------+---------------+---------------+---------------+----------------+----------------+----------------+-----------------+-----------------+-----------------+-----------------+-----------------+-----------------+-----------------+-----------------+-----------------+-----------------+------------------+------------------+------------------+\n",
      "|409434|2651697|         payment|2015-01-14 04:06:46|         420 cleaner|      false|54b57ad6ca134c404...|2015-01-14|2014-01-17|2016-07-19|     914|                6|               11|             30|             30|             30|             30|             30|             30|             30|             30|             30|             30|              30|              17|              10|              0.0|              0.0|              0.0|              0.0|              0.0|              0.0|              0.0|              0.0|              0.0|              0.0|               0.0|              10.0|              10.0|\n",
      "|409434|1723998|         payment|2015-01-18 12:34:54|                Xfer|      false|54bb37eeca134c404...|2015-01-18|2014-01-17|2016-07-19|     914|                6|               12|             30|             30|             30|             30|             30|             30|             30|             30|             30|             30|              30|              17|              10|              0.0|              0.0|              0.0|              0.0|              0.0|              0.0|              0.0|              0.0|              0.0|              0.0|               0.0|              10.0|              10.0|\n",
      "|409434|1723998|         payment|2015-01-06 13:39:43|                Dues|      false|54ab751fca134c404...|2015-01-06|2014-01-17|2016-07-19|     914|                6|               11|             30|             30|             30|             30|             30|             30|             30|             30|             30|             30|              30|              17|              10|              0.0|              0.0|              0.0|              0.0|              0.0|              0.0|              0.0|              0.0|              0.0|              0.0|               0.0|              10.0|              10.0|\n",
      "|409434| 310973|         payment|2015-01-07 10:13:53|               Stuff|      false|54ac9661ca134c404...|2015-01-07|2014-01-17|2016-07-19|     914|                6|               11|             30|             30|             30|             30|             30|             30|             30|             30|             30|             30|              30|              17|              10|              0.0|              0.0|              0.0|              0.0|              0.0|              0.0|              0.0|              0.0|              0.0|              0.0|               0.0|              10.0|              10.0|\n",
      "|409434|1723998|         payment|2015-01-21 04:42:35|     Dues Brian Chun|      false|54bebdbbca134c404...|2015-01-21|2014-01-17|2016-07-19|     914|                6|               12|             30|             30|             30|             30|             30|             30|             30|             30|             30|             30|              30|              17|              10|              0.0|              0.0|              0.0|              0.0|              0.0|              0.0|              0.0|              0.0|              0.0|              0.0|               0.0|              10.0|              10.0|\n",
      "|409434| 722891|         payment|2015-01-21 11:25:21|            Chipotle|      false|54bf1c21ca134c404...|2015-01-21|2014-01-17|2016-07-19|     914|                6|               12|             30|             30|             30|             30|             30|             30|             30|             30|             30|             30|              30|              17|              10|              0.0|              0.0|              0.0|              0.0|              0.0|              0.0|              0.0|              0.0|              0.0|              0.0|               0.0|              10.0|              10.0|\n",
      "|159919| 316032|         payment|2015-01-28 00:16:57|              Bfast!|      false|54c7b9f9ca134c404...|2015-01-28|2014-01-04|2016-11-01|    1032|                4|               12|             30|             30|             30|             30|             30|             30|             30|             30|             30|             30|              30|              30|               3|              0.0|              0.0|              0.0|              0.0|              0.0|              0.0|              0.0|              0.0|              0.0|              0.0|               0.0|               0.0|               7.5|\n",
      "|350887|1392072|         payment|2015-01-14 08:35:00|        Taco tuesday|      false|54b5b9b4ca134c404...|2015-01-14|2014-01-22|2016-10-12|     994|                4|               11|             30|             30|             30|             30|             30|             30|             30|             30|             30|             30|              30|              10|               0|              0.0|              0.0|              0.0|              0.0|              0.0|              0.0|              0.0|              0.0|              0.0|              0.0|               0.0|              10.0|              30.0|\n",
      "|159919| 316032|         payment|2015-01-25 04:53:00|                  🍴|      false|54c4062cca134c404...|2015-01-25|2014-01-04|2016-11-01|    1032|                4|               12|             30|             30|             30|             30|             30|             30|             30|             30|             30|             30|              30|              30|               3|              0.0|              0.0|              0.0|              0.0|              0.0|              0.0|              0.0|              0.0|              0.0|              0.0|               0.0|               0.0|               7.5|\n",
      "|805528| 780957|         payment|2015-01-18 13:54:10| KEEP THE CHANGE $$$|      false|54bb4a82ca134c404...|2015-01-18|2014-01-12|2016-09-11|     973|                4|               12|             30|             30|             30|             30|             30|             30|             30|             30|             30|             30|              30|              29|               0|              0.0|              0.0|              0.0|              0.0|              0.0|              0.0|              0.0|              0.0|              0.0|              0.0|               0.0|              30.0|              10.0|\n",
      "|350887| 416678|         payment|2015-01-17 13:58:13|               Drink|      false|54b9f9f5ca134c404...|2015-01-17|2014-01-22|2016-10-12|     994|                4|               11|             30|             30|             30|             30|             30|             30|             30|             30|             30|             30|              30|              10|               0|              0.0|              0.0|              0.0|              0.0|              0.0|              0.0|              0.0|              0.0|              0.0|              0.0|               0.0|              10.0|              30.0|\n",
      "|350887| 429843|         payment|2015-01-31 12:54:52|         Our friends|      false|54cc601cca134c404...|2015-01-31|2014-01-22|2016-10-12|     994|                4|               12|             30|             30|             30|             30|             30|             30|             30|             30|             30|             30|              30|              10|               0|              0.0|              0.0|              0.0|              0.0|              0.0|              0.0|              0.0|              0.0|              0.0|              0.0|               0.0|              10.0|              30.0|\n",
      "|805528| 581555|         payment|2015-01-31 12:09:32|            Internet|      false|54cc557cca134c404...|2015-01-31|2014-01-12|2016-09-11|     973|                4|               12|             30|             30|             30|             30|             30|             30|             30|             30|             30|             30|              30|              29|               0|              0.0|              0.0|              0.0|              0.0|              0.0|              0.0|              0.0|              0.0|              0.0|              0.0|               0.0|              30.0|              10.0|\n",
      "|805528| 780957|         payment|2015-01-18 15:10:26|   Ima be s rich man|      false|54bb5c62ca134c404...|2015-01-18|2014-01-12|2016-09-11|     973|                4|               12|             30|             30|             30|             30|             30|             30|             30|             30|             30|             30|              30|              29|               0|              0.0|              0.0|              0.0|              0.0|              0.0|              0.0|              0.0|              0.0|              0.0|              0.0|               0.0|              30.0|              10.0|\n",
      "|699781|1230869|         payment|2015-01-01 06:33:23|               lunch|      false|54a479b3ca134c404...|2015-01-01|2014-01-29|2016-08-31|     945|                4|               11|             30|             30|             30|             30|             30|             30|             30|             30|             30|             30|              30|               8|               2|              0.0|              0.0|              0.0|              0.0|              0.0|              0.0|              0.0|              0.0|              0.0|              0.0|               0.0|              10.0|              30.0|\n",
      "|699781|1230869|         payment|2015-01-07 04:53:01|                牛逼|      false|54ac4b2eca134c404...|2015-01-07|2014-01-29|2016-08-31|     945|                4|               11|             30|             30|             30|             30|             30|             30|             30|             30|             30|             30|              30|               8|               2|              0.0|              0.0|              0.0|              0.0|              0.0|              0.0|              0.0|              0.0|              0.0|              0.0|               0.0|              10.0|              30.0|\n",
      "|350887| 491703|         payment|2015-01-21 07:52:24|(Hungry)(food)(he...|      false|54beea38ca134c404...|2015-01-21|2014-01-22|2016-10-12|     994|                4|               11|             30|             30|             30|             30|             30|             30|             30|             30|             30|             30|              30|              10|               0|              0.0|              0.0|              0.0|              0.0|              0.0|              0.0|              0.0|              0.0|              0.0|              0.0|               0.0|              10.0|              30.0|\n",
      "|699781| 792978|         payment|2015-01-23 09:55:54|                   j|      false|54c1aa2aca134c404...|2015-01-23|2014-01-29|2016-08-31|     945|                4|               11|             30|             30|             30|             30|             30|             30|             30|             30|             30|             30|              30|               8|               2|              0.0|              0.0|              0.0|              0.0|              0.0|              0.0|              0.0|              0.0|              0.0|              0.0|               0.0|              10.0|              30.0|\n",
      "|805528| 548292|         payment|2015-01-02 13:04:55|3rd place money back|      false|54a626f7ca134c404...|2015-01-02|2014-01-12|2016-09-11|     973|                4|               11|             30|             30|             30|             30|             30|             30|             30|             30|             30|             30|              30|              29|               0|              0.0|              0.0|              0.0|              0.0|              0.0|              0.0|              0.0|              0.0|              0.0|              0.0|               0.0|              30.0|              10.0|\n",
      "|699781|2993313|         payment|2015-01-29 06:24:47|              nicely|      false|54c961afca134c404...|2015-01-29|2014-01-29|2016-08-31|     945|                4|               12|             30|             30|             30|             30|             30|             30|             30|             30|             30|             30|              30|               8|               2|              0.0|              0.0|              0.0|              0.0|              0.0|              0.0|              0.0|              0.0|              0.0|              0.0|               0.0|              10.0|              30.0|\n",
      "+------+-------+----------------+-------------------+--------------------+-----------+--------------------+----------+----------+----------+--------+-----------------+-----------------+---------------+---------------+---------------+---------------+---------------+---------------+---------------+---------------+---------------+---------------+----------------+----------------+----------------+-----------------+-----------------+-----------------+-----------------+-----------------+-----------------+-----------------+-----------------+-----------------+-----------------+------------------+------------------+------------------+\n",
      "only showing top 20 rows\n",
      "\n"
     ]
    }
   ],
   "source": [
    "from pyspark.sql import functions as F\n",
    "\n",
    "# Pivot the DataFrame for recency and frequency separately\n",
    "recency_pivot = rf_complete_df.groupBy(\"user1\").pivot(\"months_from_start\").agg(\n",
    "    F.first(F.col(\"recency\")).alias(\"recency\")\n",
    ")\n",
    "\n",
    "frequency_pivot = rf_complete_df.groupBy(\"user1\").pivot(\"months_from_start\").agg(\n",
    "    F.first(F.col(\"frequency\")).alias(\"frequency\")\n",
    ")\n",
    "\n",
    "# Rename pivoted columns to indicate recency and frequency for each month\n",
    "recency_pivot = recency_pivot.select(\n",
    "    [\"user1\"] + [F.col(f\"{c}\").alias(f\"recency_month_{c}\") for c in recency_pivot.columns if c != 'user1']\n",
    ")\n",
    "frequency_pivot = frequency_pivot.select(\n",
    "    [\"user1\"] + [F.col(f\"{c}\").alias(f\"frequency_month_{c}\") for c in frequency_pivot.columns if c != 'user1']\n",
    ")\n",
    "\n",
    "# Join the pivoted recency and frequency DataFrames back with the original DataFrame\n",
    "df1 = df1.join(recency_pivot, \"user1\", \"left\")\n",
    "df1 = df1.join(frequency_pivot, \"user1\", \"left\")\n",
    "\n",
    "# Show the DataFrame to confirm the join\n",
    "df1.orderBy('transaction_count', ascending = False).show()"
   ]
  },
  {
   "cell_type": "code",
   "execution_count": null,
   "metadata": {
    "colab": {
     "base_uri": "https://localhost:8080/"
    },
    "id": "t168Fow5dZ4Z",
    "outputId": "56d505ee-6ccd-4c5c-c6e2-3140b9179a95"
   },
   "outputs": [
    {
     "name": "stdout",
     "output_type": "stream",
     "text": [
      "+------+-----------------+---------------+---------------+---------------+---------------+---------------+---------------+---------------+---------------+---------------+---------------+----------------+----------------+----------------+-----------------+-----------------+-----------------+-----------------+-----------------+-----------------+-----------------+-----------------+-----------------+-----------------+------------------+------------------+------------------+\n",
      "| user1|transaction_count|recency_month_0|recency_month_1|recency_month_2|recency_month_3|recency_month_4|recency_month_5|recency_month_6|recency_month_7|recency_month_8|recency_month_9|recency_month_10|recency_month_11|recency_month_12|frequency_month_0|frequency_month_1|frequency_month_2|frequency_month_3|frequency_month_4|frequency_month_5|frequency_month_6|frequency_month_7|frequency_month_8|frequency_month_9|frequency_month_10|frequency_month_11|frequency_month_12|\n",
      "+------+-----------------+---------------+---------------+---------------+---------------+---------------+---------------+---------------+---------------+---------------+---------------+----------------+----------------+----------------+-----------------+-----------------+-----------------+-----------------+-----------------+-----------------+-----------------+-----------------+-----------------+-----------------+------------------+------------------+------------------+\n",
      "|292083|                1|             30|             30|             30|             30|             30|             30|             30|             30|             30|             30|              30|              30|               5|              0.0|              0.0|              0.0|              0.0|              0.0|              0.0|              0.0|              0.0|              0.0|              0.0|               0.0|               0.0|              30.0|\n",
      "|307303|                1|             30|             30|             30|             30|             30|             30|             30|             30|             30|             30|              30|              23|              30|              0.0|              0.0|              0.0|              0.0|              0.0|              0.0|              0.0|              0.0|              0.0|              0.0|               0.0|              30.0|               0.0|\n",
      "|420077|                1|             30|             30|             30|             30|             30|             30|             30|             30|             30|             30|              30|              30|               1|              0.0|              0.0|              0.0|              0.0|              0.0|              0.0|              0.0|              0.0|              0.0|              0.0|               0.0|               0.0|              30.0|\n",
      "|424374|                1|             30|             30|             30|             30|             30|             30|             30|             30|             30|             30|              30|              27|              30|              0.0|              0.0|              0.0|              0.0|              0.0|              0.0|              0.0|              0.0|              0.0|              0.0|               0.0|              30.0|               0.0|\n",
      "|513523|                1|             30|             30|             30|             30|             30|             30|             30|             30|             30|             30|              30|              30|               9|              0.0|              0.0|              0.0|              0.0|              0.0|              0.0|              0.0|              0.0|              0.0|              0.0|               0.0|               0.0|              30.0|\n",
      "+------+-----------------+---------------+---------------+---------------+---------------+---------------+---------------+---------------+---------------+---------------+---------------+----------------+----------------+----------------+-----------------+-----------------+-----------------+-----------------+-----------------+-----------------+-----------------+-----------------+-----------------+-----------------+------------------+------------------+------------------+\n",
      "only showing top 5 rows\n",
      "\n"
     ]
    }
   ],
   "source": [
    "## Retain unique users\n",
    "\n",
    "df_rf = df1.groupBy(\"user1\").agg(\n",
    "    F.first(\"transaction_count\").alias(\"transaction_count\"),\n",
    "    *(F.first(F.col(f\"recency_month_{i}\")).alias(f\"recency_month_{i}\") for i in range(13)),\n",
    "    *(F.first(F.col(f\"frequency_month_{i}\")).alias(f\"frequency_month_{i}\") for i in range(13))\n",
    ")\n",
    "\n",
    "# Display the DataFrame to check it's structured as expected\n",
    "df_rf.show(5)"
   ]
  },
  {
   "cell_type": "markdown",
   "metadata": {
    "id": "_unGVgljDr5E"
   },
   "source": [
    "Q9 For each user’s lifetime point, regress recency and frequency on Y. Plot the MSE\n",
    "for each lifetime point."
   ]
  },
  {
   "cell_type": "code",
   "execution_count": null,
   "metadata": {
    "colab": {
     "background_save": true
    },
    "id": "IvWi3INpeaFW",
    "outputId": "f0a79d76-30b6-4b43-df16-a5cb8c2bb8f1"
   },
   "outputs": [
    {
     "name": "stdout",
     "output_type": "stream",
     "text": [
      "+-----+-------------------+\n",
      "|Month|                MSE|\n",
      "+-----+-------------------+\n",
      "|    0|0.15126405884700997|\n",
      "|    1|0.15126405884700997|\n",
      "|    2|0.15126405884700997|\n",
      "|    3|0.15126405884700997|\n",
      "|    4|0.15126405884700997|\n",
      "|    5|0.15126405884700997|\n",
      "|    6|0.15126405884700997|\n",
      "|    7|0.15126405884700997|\n",
      "|    8|0.15126405884700997|\n",
      "|    9|0.15126405884700997|\n",
      "|   10|0.15126405884700997|\n",
      "|   11|0.21731126993825062|\n",
      "|   12|0.14209596583163547|\n",
      "+-----+-------------------+\n",
      "\n"
     ]
    }
   ],
   "source": [
    "from pyspark.ml.feature import VectorAssembler\n",
    "from pyspark.ml.regression import LinearRegression\n",
    "from pyspark.ml.evaluation import RegressionEvaluator\n",
    "\n",
    "# Initialize evaluator for calculating MSE\n",
    "evaluator = RegressionEvaluator(labelCol = \"transaction_count\", predictionCol = \"prediction\", metricName = \"mse\")\n",
    "\n",
    "mse_results = []\n",
    "\n",
    "for month in range(13):\n",
    "    # Assemble features for the current month\n",
    "    assembler = VectorAssembler(\n",
    "        inputCols = [f\"recency_month_{month}\", f\"frequency_month_{month}\"],\n",
    "        outputCol = \"features\"\n",
    "    )\n",
    "\n",
    "    # Transform the data frame to include feature vectors\n",
    "    transformed_df = assembler.transform(df_rf).select(\"features\", \"transaction_count\")\n",
    "\n",
    "    # Split the data into training and testing sets\n",
    "    train_data, test_data = transformed_df.randomSplit([0.8, 0.2], seed = 1)\n",
    "\n",
    "    # Define the linear regression model\n",
    "    lm = LinearRegression(featuresCol = \"features\", labelCol=\"transaction_count\")\n",
    "\n",
    "    # Fit the model on training data\n",
    "    lm_model = lm.fit(train_data)\n",
    "\n",
    "    # Predict on test data\n",
    "    predictions = lm_model.transform(test_data)\n",
    "\n",
    "    # Calculate MSE and store along with the month\n",
    "    mse = evaluator.evaluate(predictions)\n",
    "    mse_results.append((month, mse))\n",
    "\n",
    "# Convert the results into a DataFrame for easier handling\n",
    "mse_df = spark.createDataFrame(mse_results, [\"Month\", \"MSE\"])\n",
    "mse_df.show()"
   ]
  },
  {
   "cell_type": "code",
   "execution_count": null,
   "metadata": {
    "colab": {
     "base_uri": "https://localhost:8080/",
     "height": 564
    },
    "id": "XNXyPTchoHAQ",
    "outputId": "78c16ade-647a-4fa5-a012-ccddacf01405"
   },
   "outputs": [
    {
     "data": {
      "image/png": "[encoded data removed]",
      "text/plain": [
       "<Figure size 1000x600 with 1 Axes>"
      ]
     },
     "metadata": {},
     "output_type": "display_data"
    }
   ],
   "source": [
    "import pandas as pd\n",
    "import matplotlib.pyplot as plt\n",
    "\n",
    "# Convert the Spark DataFrame to a Pandas DataFrame\n",
    "mse_pd = mse_df.toPandas()\n",
    "\n",
    "# Plotting the MSE for each month\n",
    "plt.figure(figsize=(10, 6))\n",
    "plt.plot(mse_pd['Month'], mse_pd['MSE'], marker='o')\n",
    "plt.title('Mean Squared Error by Month')\n",
    "plt.xlabel('Month (0-12)')\n",
    "plt.ylabel('MSE')\n",
    "plt.xticks(range(0, 13))\n",
    "plt.grid(True)\n",
    "plt.show()"
   ]
  },
  {
   "cell_type": "markdown",
   "metadata": {
    "id": "c6f-6jKizVhI"
   },
   "source": [
    "Q10 For each user’s lifetime point, regress recency, frequency AND her spending\n",
    "behavior profile on Y."
   ]
  },
  {
   "cell_type": "code",
   "execution_count": null,
   "metadata": {
    "id": "BQhpb6xtKS9n"
   },
   "outputs": [],
   "source": [
    "# Function to load and transform emoji and text dictionaries\n",
    "def load_transform_dict(file_path, categories):\n",
    "    df = spark.read.csv(file_path, header=True)\n",
    "    # Convert the DataFrame of categories into a long format\n",
    "    transformed_df = df.select([explode(array([(col(c), lit(c)) for c in categories])).alias(\"pair\")])\n",
    "    return transformed_df.select(col(\"pair._1\").alias(\"word\"), col(\"pair._2\").alias(\"category\"))\n",
    "\n",
    "\n",
    "categories = [\"People\", \"Food\", \"Event\", \"Activity\", \"Travel\", \"Transportation\", \"Utility\", \"Cash\", \"Illegal/Sarcasm\"]\n",
    "\n",
    "# Load and transform both dictionaries\n",
    "emoji_dict_df = load_transform_dict(\"emoji_csv.csv\", categories)\n",
    "text_dict_df = load_transform_dict(\"text_csv.csv\", categories)\n",
    "\n",
    "# Combine the dictionaries\n",
    "classification_df = emoji_dict_df.union(text_dict_df)\n",
    "classification_df.show()"
   ]
  },
  {
   "cell_type": "code",
   "execution_count": null,
   "metadata": {
    "id": "FfOuoCJHQvcj"
   },
   "outputs": [],
   "source": [
    "from pyspark.sql.functions import udf\n",
    "from pyspark.sql.types import StringType\n",
    "\n",
    "# Broadcast the classification dictionary\n",
    "classification_dict = spark.sparkContext.broadcast(classification_df.collect())\n",
    "\n",
    "# Function to classify descriptions\n",
    "def classify(description):\n",
    "    description = description.lower()\n",
    "    for entry in classification_dict.value:\n",
    "        if entry.word in description:\n",
    "            return entry.category\n",
    "    return \"other\"\n",
    "\n",
    "\n",
    "classify_udf = udf(classify, StringType())\n",
    "\n",
    "# Classify transactions\n",
    "transactions_df = df.withColumn(\"category\", classify_udf(col(\"description\")))\n",
    "transactions_df.show()"
   ]
  },
  {
   "cell_type": "code",
   "execution_count": null,
   "metadata": {
    "id": "KobFseOYRDZG"
   },
   "outputs": [],
   "source": [
    "# Calculate the number of transactions per category per user\n",
    "category_count_df = transactions_df.groupBy(\"user1\", \"category\").count()\n",
    "\n",
    "# Total transactions per user\n",
    "total_transactions_df = transactions_df.groupBy(\"user1\").count().withColumnRenamed(\"count\", \"total_transactions\")\n",
    "\n",
    "# Join and calculate percentages\n",
    "profile_df = category_count_df.join(total_transactions_df, \"user1\")\n",
    "profile_df = profile_df.withColumn(\"percentage\", col(\"count\") / col(\"total_transactions\") * 100)\n",
    "\n",
    "# Pivot to get a spending profile for each user\n",
    "spending_profile_df = profile_df.groupBy(\"user1\").pivot(\"category\").max(\"percentage\").fillna(0)\n",
    "spending_profile_df.show()"
   ]
  },
  {
   "cell_type": "code",
   "execution_count": null,
   "metadata": {
    "id": "Mh6voP_tRHzv"
   },
   "outputs": [],
   "source": [
    "## Combine dataframes on RF metrics and spending profiles\n",
    "model_df = df_rf.join(spending_profile_df, transactions_df.user1 == spending_profile_df.user1)\n",
    "\n",
    "model_df.show()"
   ]
  },
  {
   "cell_type": "code",
   "execution_count": null,
   "metadata": {
    "id": "lqgoopLUSu7u"
   },
   "outputs": [],
   "source": [
    "# Initialize evaluator for calculating MSE\n",
    "evaluator = RegressionEvaluator(labelCol = \"transaction_count\", predictionCol = \"prediction\", metricName = \"mse\")\n",
    "\n",
    "mse_results = []\n",
    "\n",
    "for month in range(13):\n",
    "    # Assemble features for the current month\n",
    "    assembler = VectorAssembler(\n",
    "        inputCols = [f\"recency_month_{month}\", f\"frequency_month_{month}\", \"category\"],\n",
    "        outputCol = \"features\"\n",
    "    )\n",
    "\n",
    "    # Transform the data frame to include feature vectors\n",
    "    transformed_df = assembler.transform(df_rf).select(\"features\", \"transaction_count\")\n",
    "\n",
    "    # Split the data into training and testing sets\n",
    "    train_data, test_data = transformed_df.randomSplit([0.8, 0.2], seed = 1)\n",
    "\n",
    "    # Define the linear regression model\n",
    "    lm = LinearRegression(featuresCol = \"features\", labelCol=\"transaction_count\")\n",
    "\n",
    "    # Fit the model on training data\n",
    "    lm_model = lm.fit(train_data)\n",
    "\n",
    "    # Predict on test data\n",
    "    predictions = lm_model.transform(test_data)\n",
    "\n",
    "    # Calculate MSE and store along with the month\n",
    "    mse = evaluator.evaluate(predictions)\n",
    "    mse_results.append((month, mse))\n",
    "\n",
    "# Convert the results into a DataFrame for easier handling\n",
    "mse_df = spark.createDataFrame(mse_results, [\"Month\", \"MSE\"])\n",
    "\n",
    "# Convert the Spark DataFrame to a Pandas DataFrame\n",
    "mse_pd = mse_df.toPandas()\n",
    "\n",
    "# Plotting the MSE for each month\n",
    "plt.figure(figsize=(10, 6))\n",
    "plt.plot(mse_pd['Month'], mse_pd['MSE'], marker='o')\n",
    "plt.title('Mean Squared Error by Month')\n",
    "plt.xlabel('Month (0-12)')\n",
    "plt.ylabel('MSE')\n",
    "plt.xticks(range(0, 13))\n",
    "plt.grid(True)\n",
    "plt.show()"
   ]
  },
  {
   "cell_type": "markdown",
   "metadata": {
    "id": "Dr6HlDQhXDoW"
   },
   "source": [
    "Since majority of the transactions happen towards the end of the lifetime, (in this case), we see that using spending behaviour provides a slight improvement to the MSE. i.e it adds to the predictive power"
   ]
  },
  {
   "cell_type": "markdown",
   "metadata": {
    "id": "dbr96aFkDmjA"
   },
   "source": [
    "Q11 For each user’s lifetime point, regress her social network metrics on Y. Plot the\n",
    "MSE for each lifetime point like above."
   ]
  },
  {
   "cell_type": "code",
   "execution_count": null,
   "metadata": {
    "id": "m8puTXqZGm-4"
   },
   "outputs": [],
   "source": [
    "from pyspark.sql import SparkSession\n",
    "from pyspark.sql.functions import col, expr, countDistinct, min, months_between\n",
    "from pyspark.sql import Window\n",
    "from pyspark.ml.regression import LinearRegression\n",
    "from pyspark.ml.feature import VectorAssembler\n",
    "import matplotlib.pyplot as plt\n",
    "import pandas as pd"
   ]
  },
  {
   "cell_type": "code",
   "execution_count": null,
   "metadata": {
    "colab": {
     "base_uri": "https://localhost:8080/",
     "height": 599
    },
    "id": "Odxn1xDf3UhK",
    "outputId": "84bbd7d4-217c-47aa-cc0f-cf6995175eef"
   },
   "outputs": [
    {
     "name": "stderr",
     "output_type": "stream",
     "text": [
      "ERROR:root:Exception while sending command.\n",
      "Traceback (most recent call last):\n",
      "  File \"/content/spark-3.0.3-bin-hadoop3.2/python/lib/py4j-0.10.9-src.zip/py4j/java_gateway.py\", line 1207, in send_command\n",
      "    raise Py4JNetworkError(\"Answer from Java side is empty\")\n",
      "py4j.protocol.Py4JNetworkError: Answer from Java side is empty\n",
      "\n",
      "During handling of the above exception, another exception occurred:\n",
      "\n",
      "Traceback (most recent call last):\n",
      "  File \"/content/spark-3.0.3-bin-hadoop3.2/python/lib/py4j-0.10.9-src.zip/py4j/java_gateway.py\", line 1033, in send_command\n",
      "    response = connection.send_command(command)\n",
      "  File \"/content/spark-3.0.3-bin-hadoop3.2/python/lib/py4j-0.10.9-src.zip/py4j/java_gateway.py\", line 1211, in send_command\n",
      "    raise Py4JNetworkError(\n",
      "py4j.protocol.Py4JNetworkError: Error while receiving\n"
     ]
    },
    {
     "ename": "Py4JError",
     "evalue": "An error occurred while calling o837.select",
     "output_type": "error",
     "traceback": [
      "\u001b[0;31m---------------------------------------------------------------------------\u001b[0m",
      "\u001b[0;31mPy4JError\u001b[0m                                 Traceback (most recent call last)",
      "\u001b[0;32m<ipython-input-20-ecac1752bc0d>\u001b[0m in \u001b[0;36m<cell line: 18>\u001b[0;34m()\u001b[0m\n\u001b[1;32m     16\u001b[0m \u001b[0;31m# Step 2: Calculate Social Network Metrics\u001b[0m\u001b[0;34m\u001b[0m\u001b[0;34m\u001b[0m\u001b[0m\n\u001b[1;32m     17\u001b[0m \u001b[0;31m# Identify direct friends\u001b[0m\u001b[0;34m\u001b[0m\u001b[0;34m\u001b[0m\u001b[0m\n\u001b[0;32m---> 18\u001b[0;31m \u001b[0mdirect_friends_df\u001b[0m \u001b[0;34m=\u001b[0m \u001b[0msampled_df\u001b[0m\u001b[0;34m.\u001b[0m\u001b[0mselect\u001b[0m\u001b[0;34m(\u001b[0m\u001b[0mcol\u001b[0m\u001b[0;34m(\u001b[0m\u001b[0;34m\"user1\"\u001b[0m\u001b[0;34m)\u001b[0m\u001b[0;34m.\u001b[0m\u001b[0malias\u001b[0m\u001b[0;34m(\u001b[0m\u001b[0;34m\"user\"\u001b[0m\u001b[0;34m)\u001b[0m\u001b[0;34m,\u001b[0m \u001b[0mcol\u001b[0m\u001b[0;34m(\u001b[0m\u001b[0;34m\"user2\"\u001b[0m\u001b[0;34m)\u001b[0m\u001b[0;34m.\u001b[0m\u001b[0malias\u001b[0m\u001b[0;34m(\u001b[0m\u001b[0;34m\"friend\"\u001b[0m\u001b[0;34m)\u001b[0m\u001b[0;34m)\u001b[0m\u001b[0;31m \u001b[0m\u001b[0;31m\\\u001b[0m\u001b[0;34m\u001b[0m\u001b[0;34m\u001b[0m\u001b[0m\n\u001b[0m\u001b[1;32m     19\u001b[0m     \u001b[0;34m.\u001b[0m\u001b[0munion\u001b[0m\u001b[0;34m(\u001b[0m\u001b[0msampled_df\u001b[0m\u001b[0;34m.\u001b[0m\u001b[0mselect\u001b[0m\u001b[0;34m(\u001b[0m\u001b[0mcol\u001b[0m\u001b[0;34m(\u001b[0m\u001b[0;34m\"user2\"\u001b[0m\u001b[0;34m)\u001b[0m\u001b[0;34m.\u001b[0m\u001b[0malias\u001b[0m\u001b[0;34m(\u001b[0m\u001b[0;34m\"user\"\u001b[0m\u001b[0;34m)\u001b[0m\u001b[0;34m,\u001b[0m \u001b[0mcol\u001b[0m\u001b[0;34m(\u001b[0m\u001b[0;34m\"user1\"\u001b[0m\u001b[0;34m)\u001b[0m\u001b[0;34m.\u001b[0m\u001b[0malias\u001b[0m\u001b[0;34m(\u001b[0m\u001b[0;34m\"friend\"\u001b[0m\u001b[0;34m)\u001b[0m\u001b[0;34m)\u001b[0m\u001b[0;34m)\u001b[0m\u001b[0;34m\u001b[0m\u001b[0;34m\u001b[0m\u001b[0m\n\u001b[1;32m     20\u001b[0m \u001b[0;34m\u001b[0m\u001b[0m\n",
      "\u001b[0;32m/content/spark-3.0.3-bin-hadoop3.2/python/pyspark/sql/dataframe.py\u001b[0m in \u001b[0;36mselect\u001b[0;34m(self, *cols)\u001b[0m\n\u001b[1;32m   1419\u001b[0m         \u001b[0;34m[\u001b[0m\u001b[0mRow\u001b[0m\u001b[0;34m(\u001b[0m\u001b[0mname\u001b[0m\u001b[0;34m=\u001b[0m\u001b[0;34mu'Alice'\u001b[0m\u001b[0;34m,\u001b[0m \u001b[0mage\u001b[0m\u001b[0;34m=\u001b[0m\u001b[0;36m12\u001b[0m\u001b[0;34m)\u001b[0m\u001b[0;34m,\u001b[0m \u001b[0mRow\u001b[0m\u001b[0;34m(\u001b[0m\u001b[0mname\u001b[0m\u001b[0;34m=\u001b[0m\u001b[0;34mu'Bob'\u001b[0m\u001b[0;34m,\u001b[0m \u001b[0mage\u001b[0m\u001b[0;34m=\u001b[0m\u001b[0;36m15\u001b[0m\u001b[0;34m)\u001b[0m\u001b[0;34m]\u001b[0m\u001b[0;34m\u001b[0m\u001b[0;34m\u001b[0m\u001b[0m\n\u001b[1;32m   1420\u001b[0m         \"\"\"\n\u001b[0;32m-> 1421\u001b[0;31m         \u001b[0mjdf\u001b[0m \u001b[0;34m=\u001b[0m \u001b[0mself\u001b[0m\u001b[0;34m.\u001b[0m\u001b[0m_jdf\u001b[0m\u001b[0;34m.\u001b[0m\u001b[0mselect\u001b[0m\u001b[0;34m(\u001b[0m\u001b[0mself\u001b[0m\u001b[0;34m.\u001b[0m\u001b[0m_jcols\u001b[0m\u001b[0;34m(\u001b[0m\u001b[0;34m*\u001b[0m\u001b[0mcols\u001b[0m\u001b[0;34m)\u001b[0m\u001b[0;34m)\u001b[0m\u001b[0;34m\u001b[0m\u001b[0;34m\u001b[0m\u001b[0m\n\u001b[0m\u001b[1;32m   1422\u001b[0m         \u001b[0;32mreturn\u001b[0m \u001b[0mDataFrame\u001b[0m\u001b[0;34m(\u001b[0m\u001b[0mjdf\u001b[0m\u001b[0;34m,\u001b[0m \u001b[0mself\u001b[0m\u001b[0;34m.\u001b[0m\u001b[0msql_ctx\u001b[0m\u001b[0;34m)\u001b[0m\u001b[0;34m\u001b[0m\u001b[0;34m\u001b[0m\u001b[0m\n\u001b[1;32m   1423\u001b[0m \u001b[0;34m\u001b[0m\u001b[0m\n",
      "\u001b[0;32m/content/spark-3.0.3-bin-hadoop3.2/python/lib/py4j-0.10.9-src.zip/py4j/java_gateway.py\u001b[0m in \u001b[0;36m__call__\u001b[0;34m(self, *args)\u001b[0m\n\u001b[1;32m   1302\u001b[0m \u001b[0;34m\u001b[0m\u001b[0m\n\u001b[1;32m   1303\u001b[0m         \u001b[0manswer\u001b[0m \u001b[0;34m=\u001b[0m \u001b[0mself\u001b[0m\u001b[0;34m.\u001b[0m\u001b[0mgateway_client\u001b[0m\u001b[0;34m.\u001b[0m\u001b[0msend_command\u001b[0m\u001b[0;34m(\u001b[0m\u001b[0mcommand\u001b[0m\u001b[0;34m)\u001b[0m\u001b[0;34m\u001b[0m\u001b[0;34m\u001b[0m\u001b[0m\n\u001b[0;32m-> 1304\u001b[0;31m         return_value = get_return_value(\n\u001b[0m\u001b[1;32m   1305\u001b[0m             answer, self.gateway_client, self.target_id, self.name)\n\u001b[1;32m   1306\u001b[0m \u001b[0;34m\u001b[0m\u001b[0m\n",
      "\u001b[0;32m/content/spark-3.0.3-bin-hadoop3.2/python/pyspark/sql/utils.py\u001b[0m in \u001b[0;36mdeco\u001b[0;34m(*a, **kw)\u001b[0m\n\u001b[1;32m    126\u001b[0m     \u001b[0;32mdef\u001b[0m \u001b[0mdeco\u001b[0m\u001b[0;34m(\u001b[0m\u001b[0;34m*\u001b[0m\u001b[0ma\u001b[0m\u001b[0;34m,\u001b[0m \u001b[0;34m**\u001b[0m\u001b[0mkw\u001b[0m\u001b[0;34m)\u001b[0m\u001b[0;34m:\u001b[0m\u001b[0;34m\u001b[0m\u001b[0;34m\u001b[0m\u001b[0m\n\u001b[1;32m    127\u001b[0m         \u001b[0;32mtry\u001b[0m\u001b[0;34m:\u001b[0m\u001b[0;34m\u001b[0m\u001b[0;34m\u001b[0m\u001b[0m\n\u001b[0;32m--> 128\u001b[0;31m             \u001b[0;32mreturn\u001b[0m \u001b[0mf\u001b[0m\u001b[0;34m(\u001b[0m\u001b[0;34m*\u001b[0m\u001b[0ma\u001b[0m\u001b[0;34m,\u001b[0m \u001b[0;34m**\u001b[0m\u001b[0mkw\u001b[0m\u001b[0;34m)\u001b[0m\u001b[0;34m\u001b[0m\u001b[0;34m\u001b[0m\u001b[0m\n\u001b[0m\u001b[1;32m    129\u001b[0m         \u001b[0;32mexcept\u001b[0m \u001b[0mpy4j\u001b[0m\u001b[0;34m.\u001b[0m\u001b[0mprotocol\u001b[0m\u001b[0;34m.\u001b[0m\u001b[0mPy4JJavaError\u001b[0m \u001b[0;32mas\u001b[0m \u001b[0me\u001b[0m\u001b[0;34m:\u001b[0m\u001b[0;34m\u001b[0m\u001b[0;34m\u001b[0m\u001b[0m\n\u001b[1;32m    130\u001b[0m             \u001b[0mconverted\u001b[0m \u001b[0;34m=\u001b[0m \u001b[0mconvert_exception\u001b[0m\u001b[0;34m(\u001b[0m\u001b[0me\u001b[0m\u001b[0;34m.\u001b[0m\u001b[0mjava_exception\u001b[0m\u001b[0;34m)\u001b[0m\u001b[0;34m\u001b[0m\u001b[0;34m\u001b[0m\u001b[0m\n",
      "\u001b[0;32m/content/spark-3.0.3-bin-hadoop3.2/python/lib/py4j-0.10.9-src.zip/py4j/protocol.py\u001b[0m in \u001b[0;36mget_return_value\u001b[0;34m(answer, gateway_client, target_id, name)\u001b[0m\n\u001b[1;32m    332\u001b[0m                     format(target_id, \".\", name, value))\n\u001b[1;32m    333\u001b[0m         \u001b[0;32melse\u001b[0m\u001b[0;34m:\u001b[0m\u001b[0;34m\u001b[0m\u001b[0;34m\u001b[0m\u001b[0m\n\u001b[0;32m--> 334\u001b[0;31m             raise Py4JError(\n\u001b[0m\u001b[1;32m    335\u001b[0m                 \u001b[0;34m\"An error occurred while calling {0}{1}{2}\"\u001b[0m\u001b[0;34m.\u001b[0m\u001b[0;34m\u001b[0m\u001b[0;34m\u001b[0m\u001b[0m\n\u001b[1;32m    336\u001b[0m                 format(target_id, \".\", name))\n",
      "\u001b[0;31mPy4JError\u001b[0m: An error occurred while calling o837.select"
     ]
    }
   ],
   "source": [
    "# Convert datetime to timestamp\n",
    "df = df.withColumn(\"datetime\", col(\"datetime\").cast(\"timestamp\"))\n",
    "\n",
    "# Sample a subset of the data (e.g., 10% of the original data)\n",
    "sample_fraction = 0.00001\n",
    "sampled_df = df.sample(fraction=sample_fraction, seed=42)\n",
    "\n",
    "# Step 1: Filter Transactions for the First 12 Months from the First Transaction\n",
    "window_spec = Window.partitionBy(\"user1\").orderBy(\"datetime\")\n",
    "sampled_df = sampled_df.withColumn(\"first_transaction_date\", min(\"datetime\").over(window_spec))\n",
    "sampled_df = sampled_df.withColumn(\"months_since_first\", expr(\"months_between(datetime, first_transaction_date)\"))\n",
    "\n",
    "# Filter out transactions outside the first 12 months\n",
    "sampled_df = sampled_df.filter(col(\"months_since_first\") <= 12)\n",
    "\n",
    "# Step 2: Calculate Social Network Metrics\n",
    "# Identify direct friends\n",
    "direct_friends_df = sampled_df.select(col(\"user1\").alias(\"user\"), col(\"user2\").alias(\"friend\")) \\\n",
    "    .union(sampled_df.select(col(\"user2\").alias(\"user\"), col(\"user1\").alias(\"friend\")))\n",
    "\n",
    "# Identify second-degree friends (friends of friends)\n",
    "second_degree_friends_df = direct_friends_df.alias(\"df1\") \\\n",
    "    .join(direct_friends_df.alias(\"df2\"), col(\"df1.friend\") == col(\"df2.user\")) \\\n",
    "    .select(col(\"df1.user\").alias(\"user\"), col(\"df2.friend\").alias(\"second_degree_friend\")) \\\n",
    "    .filter(col(\"df1.user\") != col(\"df2.friend\")) \\\n",
    "    .distinct()\n",
    "\n",
    "# Count the number of friends for each user\n",
    "friends_count_df = direct_friends_df.groupBy(\"user\").agg(countDistinct(\"friend\").alias(\"num_friends\"))\n",
    "\n",
    "# Count the number of second-degree friends for each user\n",
    "second_degree_friends_count_df = second_degree_friends_df.groupBy(\"user\").agg(countDistinct(\"second_degree_friend\").alias(\"num_second_degree_friends\"))\n",
    "\n",
    "# Combine the counts\n",
    "user_stats_df = friends_count_df.join(second_degree_friends_count_df, \"user\", \"left\").na.fill(0)\n",
    "\n",
    "# Rename columns to avoid conflicts when joining back to the original DataFrame\n",
    "user_stats_df = user_stats_df.withColumnRenamed(\"user\", \"user_id\")\n",
    "\n",
    "# Join the counts back to the original transactions DataFrame for user1\n",
    "sampled_df = sampled_df.join(\n",
    "    user_stats_df.withColumnRenamed(\"user_id\", \"user1\")\n",
    "    .withColumnRenamed(\"num_friends\", \"user1_num_friends\")\n",
    "    .withColumnRenamed(\"num_second_degree_friends\", \"user1_num_second_degree_friends\"),\n",
    "    \"user1\",\n",
    "    \"left\"\n",
    ")\n",
    "\n",
    "# Join the counts back to the original transactions DataFrame for user2\n",
    "sampled_df = sampled_df.join(\n",
    "    user_stats_df.withColumnRenamed(\"user_id\", \"user2\")\n",
    "    .withColumnRenamed(\"num_friends\", \"user2_num_friends\")\n",
    "    .withColumnRenamed(\"num_second_degree_friends\", \"user2_num_second_degree_friends\"),\n",
    "    \"user2\",\n",
    "    \"left\"\n",
    ")\n",
    "\n",
    "# Fill null values with 0\n",
    "sampled_df = sampled_df.fillna(0, subset=[\n",
    "    \"user1_num_friends\",\n",
    "    \"user1_num_second_degree_friends\",\n",
    "    \"user2_num_friends\",\n",
    "    \"user2_num_second_degree_friends\"\n",
    "])\n",
    "\n",
    "# Step 3: Regress Social Network Metrics on Y\n",
    "mse_list = []\n",
    "\n",
    "for month in range(13):\n",
    "    # Filter data for the current month\n",
    "    month_df = sampled_df.filter(col(\"months_since_first\") == month)\n",
    "\n",
    "    if month_df.count() == 0:\n",
    "        continue\n",
    "\n",
    "    # Prepare data for regression\n",
    "    assembler = VectorAssembler(inputCols=[\"user1_num_friends\", \"user1_num_second_degree_friends\"], outputCol=\"features\")\n",
    "    assembled_df = assembler.transform(month_df)\n",
    "\n",
    "    # Define the linear regression model\n",
    "    lm = LinearRegression(featuresCol=\"features\", labelCol=\"Y\")\n",
    "\n",
    "    # Fit the model\n",
    "    lm_model = lm.fit(assembled_df)\n",
    "\n",
    "    # Make predictions\n",
    "    predictions = lm_model.transform(assembled_df)\n",
    "\n",
    "    # Calculate MSE\n",
    "    mse = predictions.selectExpr(\"POWER(Y - prediction, 2) as squared_error\").agg({\"squared_error\": \"mean\"}).collect()[0][0]\n",
    "    mse_list.append((month, mse))\n",
    "\n",
    "# Convert MSE list to DataFrame\n",
    "mse_df = pd.DataFrame(mse_list, columns=[\"Month\", \"MSE\"])\n",
    "\n",
    "# Step 4: Plot MSE\n",
    "plt.figure(figsize=(10, 6))\n",
    "plt.plot(mse_df[\"Month\"], mse_df[\"MSE\"], marker='o')\n",
    "plt.title(\"Mean Squared Error (MSE) over User Lifetime\")\n",
    "plt.xlabel(\"Months Since First Transaction\")\n",
    "plt.ylabel(\"Mean Squared Error (MSE)\")\n",
    "plt.grid(True)\n",
    "plt.show()"
   ]
  },
  {
   "cell_type": "markdown",
   "metadata": {
    "id": "eeGOwdL8Xl0C"
   },
   "source": [
    "The social network metrics in this case are a better predictor as observed and it makes sense because a user's total transactions will be dependent on the size of the social nework i.e friends, firneds of friends etc. the larger the social network indicated, the more the transactions. The results are better than the RF framework mainly due to the following reasons:\n",
    "\n",
    "- It could be observed that in our selected timeframe, many users have frequency of 0 and recency of 30 indicating very less usage across months.\n",
    "- We also spsrseness of usage.\n",
    "\n",
    "Hence, it makes sense that the RF metrics would not be too good at capturing the transaction patterns"
   ]
  },
  {
   "cell_type": "markdown",
   "metadata": {
    "id": "wooR4KmXT4Oi"
   },
   "source": [
    "Q12 For each user’s lifetime point, regress her social network metrics and the\n",
    "spending behavior of her social network on Y"
   ]
  },
  {
   "cell_type": "code",
   "execution_count": null,
   "metadata": {
    "id": "FxsyFMuR6MlM"
   },
   "outputs": [],
   "source": [
    "from pyspark.sql.functions import col, collect_set, size, explode\n",
    "\n",
    "# Determine direct friends\n",
    "friends_df = df.selectExpr(\"user1 as user\", \"user2 as friend\").distinct()\n",
    "\n",
    "# Determine friends of friends (excluding direct friends and self-loops)\n",
    "fof_df = friends_df.alias(\"df1\").join(friends_df.alias(\"df2\"), col(\"df1.friend\") == col(\"df2.user\")) \\\n",
    "    .select(col(\"df1.user\"), col(\"df2.friend\").alias(\"fof\")) \\\n",
    "    .where(\"df1.user != df2.friend and df1.user != df2.user\")\n",
    "\n",
    "# Aggregate counts of friends and fofs\n",
    "network_metrics_df = friends_df.groupBy(\"user\").agg(size(collect_set(\"friend\")).alias(\"num_friends\"))\n",
    "fof_metrics_df = fof_df.groupBy(\"user\").agg(size(collect_set(\"fof\")).alias(\"num_fofs\"))\n",
    "\n",
    "# Join the metrics\n",
    "network_metrics_df = network_metrics_df.join(fof_metrics_df, \"user\", \"outer\").fillna(0)\n",
    "\n",
    "# Join the spending profile with friends\n",
    "friend_spending_df = friends_df.join(spending_profile_df, friends_df.friend == spending_profile_df.user1)\n",
    "\n",
    "# Aggregate the average spending percentage of friends per category\n",
    "avg_friend_spending_df = friend_spending_df.groupBy(\"user\").pivot(\"category\").agg(F.avg(\"percentage\"))\n",
    "\n",
    "# Join network metrics with average spending behavior\n",
    "network_metrics_df = network_metrics_df.join(avg_friend_spending_df, \"user\")\n",
    "\n",
    "model_data_df = df_rf.join(network_metrics_df, df_rf.user1 == network_metrics_df.user)\n",
    "\n",
    "for month in range(13):\n",
    "    # Assemble features for the current month\n",
    "    assembler = VectorAssembler(\n",
    "        inputCols = [f\"recency_month_{month}\", f\"frequency_month_{month}\", \"category\"],\n",
    "        outputCol = \"features\"\n",
    "    )\n",
    "\n",
    "    # Transform the data frame to include feature vectors\n",
    "    transformed_df = assembler.transform(df_rf).select(\"features\", \"transaction_count\")\n",
    "\n",
    "    # Split the data into training and testing sets\n",
    "    train_data, test_data = transformed_df.randomSplit([0.8, 0.2], seed = 1)\n",
    "\n",
    "    # Define the linear regression model\n",
    "    lm = LinearRegression(featuresCol = \"features\", labelCol=\"transaction_count\")\n",
    "\n",
    "    # Fit the model on training data\n",
    "    lm_model = lm.fit(train_data)\n",
    "\n",
    "    # Predict on test data\n",
    "    predictions = lm_model.transform(test_data)\n",
    "\n",
    "    # Calculate MSE and store along with the month\n",
    "    mse = evaluator.evaluate(predictions)\n",
    "    mse_results.append((month, mse))\n",
    "\n",
    "# Convert the results into a DataFrame for easier handling\n",
    "mse_df = spark.createDataFrame(mse_results, [\"Month\", \"MSE\"])\n",
    "\n",
    "# Convert the Spark DataFrame to a Pandas DataFrame\n",
    "mse_pd = mse_df.toPandas()\n",
    "\n",
    "# Plotting the MSE for each month\n",
    "plt.figure(figsize=(10, 6))\n",
    "plt.plot(mse_pd['Month'], mse_pd['MSE'], marker='o')\n",
    "plt.title('Mean Squared Error by Month')\n",
    "plt.xlabel('Month (0-12)')\n",
    "plt.ylabel('MSE')\n",
    "plt.xticks(range(0, 13))\n",
    "plt.grid(True)\n",
    "plt.show()\n"
   ]
  },
  {
   "cell_type": "markdown",
   "metadata": {
    "id": "rNGJgq2EcGDY"
   },
   "source": [
    "Unable do draw conclusions due to memory constraints"
   ]
  },
  {
   "cell_type": "code",
   "execution_count": null,
   "metadata": {
    "id": "J27DDgR6cNCg"
   },
   "outputs": [],
   "source": []
  }
 ],
 "metadata": {
  "colab": {
   "provenance": []
  },
  "kernelspec": {
   "display_name": "Python 3 (ipykernel)",
   "language": "python",
   "name": "python3"
  },
  "language_info": {
   "codemirror_mode": {
    "name": "ipython",
    "version": 3
   },
   "file_extension": ".py",
   "mimetype": "text/x-python",
   "name": "python",
   "nbconvert_exporter": "python",
   "pygments_lexer": "ipython3",
   "version": "3.8.18"
  }
 },
 "nbformat": 4,
 "nbformat_minor": 4
}
